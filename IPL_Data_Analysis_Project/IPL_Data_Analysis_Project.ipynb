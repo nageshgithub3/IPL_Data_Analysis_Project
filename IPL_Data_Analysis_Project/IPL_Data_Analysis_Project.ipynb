{
 "cells": [
  {
   "cell_type": "markdown",
   "id": "504c90b6",
   "metadata": {},
   "source": [
    "### **Note :**\n",
    "* You will need the below 3 datasets to work on the questions : \n",
    "  * **ipl_matches.csv**\n",
    "  * **ipl_batting.csv**\n",
    "  * **ipl_deliveries.csv**"
   ]
  },
  {
   "cell_type": "markdown",
   "id": "453fe379",
   "metadata": {},
   "source": [
    "### importing the essential Libraries"
   ]
  },
  {
   "cell_type": "code",
   "execution_count": 1,
   "id": "0dee3aa3",
   "metadata": {},
   "outputs": [],
   "source": [
    "import pandas as pd"
   ]
  },
  {
   "cell_type": "code",
   "execution_count": 2,
   "id": "b779900b",
   "metadata": {},
   "outputs": [],
   "source": [
    "import numpy as np"
   ]
  },
  {
   "cell_type": "code",
   "execution_count": 3,
   "id": "34c42a67",
   "metadata": {},
   "outputs": [],
   "source": [
    "import matplotlib.pyplot as plt"
   ]
  },
  {
   "cell_type": "code",
   "execution_count": 4,
   "id": "2f8ed48a",
   "metadata": {},
   "outputs": [],
   "source": [
    "import seaborn as sns"
   ]
  },
  {
   "cell_type": "markdown",
   "id": "5824d13a",
   "metadata": {},
   "source": [
    "# reading datasets"
   ]
  },
  {
   "cell_type": "code",
   "execution_count": 5,
   "id": "83ebe508",
   "metadata": {},
   "outputs": [],
   "source": [
    "batting = pd.read_csv(\"ipl_batting.csv\")"
   ]
  },
  {
   "cell_type": "code",
   "execution_count": 6,
   "id": "1d736de9",
   "metadata": {},
   "outputs": [],
   "source": [
    "deliveries = pd.read_csv(\"ipl_deliveries.csv\")"
   ]
  },
  {
   "cell_type": "code",
   "execution_count": 7,
   "id": "ce68f5fa",
   "metadata": {},
   "outputs": [],
   "source": [
    "matches = pd.read_csv(\"ipl_matches.csv\")"
   ]
  },
  {
   "cell_type": "code",
   "execution_count": 8,
   "id": "0a8b9c0a",
   "metadata": {},
   "outputs": [
    {
     "data": {
      "text/html": [
       "<div>\n",
       "<style scoped>\n",
       "    .dataframe tbody tr th:only-of-type {\n",
       "        vertical-align: middle;\n",
       "    }\n",
       "\n",
       "    .dataframe tbody tr th {\n",
       "        vertical-align: top;\n",
       "    }\n",
       "\n",
       "    .dataframe thead th {\n",
       "        text-align: right;\n",
       "    }\n",
       "</style>\n",
       "<table border=\"1\" class=\"dataframe\">\n",
       "  <thead>\n",
       "    <tr style=\"text-align: right;\">\n",
       "      <th></th>\n",
       "      <th>match_no</th>\n",
       "      <th>team_1</th>\n",
       "      <th>team_2</th>\n",
       "      <th>batsmen</th>\n",
       "      <th>wicket_status</th>\n",
       "      <th>R</th>\n",
       "      <th>B</th>\n",
       "      <th>M</th>\n",
       "      <th>fours</th>\n",
       "      <th>sixes</th>\n",
       "      <th>SR</th>\n",
       "      <th>special_role</th>\n",
       "      <th>dismissal_mode</th>\n",
       "      <th>bowler_name</th>\n",
       "      <th>fielder</th>\n",
       "      <th>is_fielder_involved</th>\n",
       "      <th>match_date</th>\n",
       "    </tr>\n",
       "  </thead>\n",
       "  <tbody>\n",
       "    <tr>\n",
       "      <th>0</th>\n",
       "      <td>1</td>\n",
       "      <td>Mumbai Indians</td>\n",
       "      <td>Chennai Super Kings</td>\n",
       "      <td>ST Jayasuriya</td>\n",
       "      <td>c Hayden b Thushara</td>\n",
       "      <td>26.0</td>\n",
       "      <td>20.0</td>\n",
       "      <td>0.0</td>\n",
       "      <td>5.0</td>\n",
       "      <td>0.0</td>\n",
       "      <td>130.00</td>\n",
       "      <td>normal player</td>\n",
       "      <td>caught</td>\n",
       "      <td>Thushara</td>\n",
       "      <td>Hayden</td>\n",
       "      <td>1</td>\n",
       "      <td>2009-04-18</td>\n",
       "    </tr>\n",
       "    <tr>\n",
       "      <th>1</th>\n",
       "      <td>1</td>\n",
       "      <td>Mumbai Indians</td>\n",
       "      <td>Chennai Super Kings</td>\n",
       "      <td>SR Tendulkar</td>\n",
       "      <td>not out</td>\n",
       "      <td>59.0</td>\n",
       "      <td>49.0</td>\n",
       "      <td>0.0</td>\n",
       "      <td>7.0</td>\n",
       "      <td>0.0</td>\n",
       "      <td>120.40</td>\n",
       "      <td>captain</td>\n",
       "      <td>not out</td>\n",
       "      <td>no bowler</td>\n",
       "      <td>no fielder</td>\n",
       "      <td>0</td>\n",
       "      <td>2009-04-18</td>\n",
       "    </tr>\n",
       "    <tr>\n",
       "      <th>2</th>\n",
       "      <td>1</td>\n",
       "      <td>Mumbai Indians</td>\n",
       "      <td>Chennai Super Kings</td>\n",
       "      <td>S Dhawan</td>\n",
       "      <td>c Dhoni b Gony</td>\n",
       "      <td>22.0</td>\n",
       "      <td>21.0</td>\n",
       "      <td>0.0</td>\n",
       "      <td>2.0</td>\n",
       "      <td>0.0</td>\n",
       "      <td>104.76</td>\n",
       "      <td>normal player</td>\n",
       "      <td>caught</td>\n",
       "      <td>Gony</td>\n",
       "      <td>Dhoni</td>\n",
       "      <td>1</td>\n",
       "      <td>2009-04-18</td>\n",
       "    </tr>\n",
       "    <tr>\n",
       "      <th>3</th>\n",
       "      <td>1</td>\n",
       "      <td>Mumbai Indians</td>\n",
       "      <td>Chennai Super Kings</td>\n",
       "      <td>JP Duminy</td>\n",
       "      <td>c &amp; b Gony</td>\n",
       "      <td>9.0</td>\n",
       "      <td>7.0</td>\n",
       "      <td>0.0</td>\n",
       "      <td>1.0</td>\n",
       "      <td>0.0</td>\n",
       "      <td>128.57</td>\n",
       "      <td>normal player</td>\n",
       "      <td>caught</td>\n",
       "      <td>Gony</td>\n",
       "      <td>Gony</td>\n",
       "      <td>1</td>\n",
       "      <td>2009-04-18</td>\n",
       "    </tr>\n",
       "    <tr>\n",
       "      <th>4</th>\n",
       "      <td>1</td>\n",
       "      <td>Mumbai Indians</td>\n",
       "      <td>Chennai Super Kings</td>\n",
       "      <td>DJ Bravo</td>\n",
       "      <td>c Hayden b Joginder Sharma</td>\n",
       "      <td>5.0</td>\n",
       "      <td>4.0</td>\n",
       "      <td>0.0</td>\n",
       "      <td>1.0</td>\n",
       "      <td>0.0</td>\n",
       "      <td>125.00</td>\n",
       "      <td>normal player</td>\n",
       "      <td>caught</td>\n",
       "      <td>Joginder Sharma</td>\n",
       "      <td>Hayden</td>\n",
       "      <td>1</td>\n",
       "      <td>2009-04-18</td>\n",
       "    </tr>\n",
       "  </tbody>\n",
       "</table>\n",
       "</div>"
      ],
      "text/plain": [
       "  match_no          team_1               team_2        batsmen  \\\n",
       "0        1  Mumbai Indians  Chennai Super Kings  ST Jayasuriya   \n",
       "1        1  Mumbai Indians  Chennai Super Kings   SR Tendulkar   \n",
       "2        1  Mumbai Indians  Chennai Super Kings       S Dhawan   \n",
       "3        1  Mumbai Indians  Chennai Super Kings      JP Duminy   \n",
       "4        1  Mumbai Indians  Chennai Super Kings       DJ Bravo   \n",
       "\n",
       "                wicket_status     R     B    M  fours  sixes      SR  \\\n",
       "0         c Hayden b Thushara  26.0  20.0  0.0    5.0    0.0  130.00   \n",
       "1                     not out  59.0  49.0  0.0    7.0    0.0  120.40   \n",
       "2              c Dhoni b Gony  22.0  21.0  0.0    2.0    0.0  104.76   \n",
       "3                  c & b Gony   9.0   7.0  0.0    1.0    0.0  128.57   \n",
       "4  c Hayden b Joginder Sharma   5.0   4.0  0.0    1.0    0.0  125.00   \n",
       "\n",
       "    special_role dismissal_mode      bowler_name     fielder  \\\n",
       "0  normal player         caught         Thushara      Hayden   \n",
       "1        captain        not out        no bowler  no fielder   \n",
       "2  normal player         caught             Gony       Dhoni   \n",
       "3  normal player         caught             Gony        Gony   \n",
       "4  normal player         caught  Joginder Sharma      Hayden   \n",
       "\n",
       "   is_fielder_involved  match_date  \n",
       "0                    1  2009-04-18  \n",
       "1                    0  2009-04-18  \n",
       "2                    1  2009-04-18  \n",
       "3                    1  2009-04-18  \n",
       "4                    1  2009-04-18  "
      ]
     },
     "execution_count": 8,
     "metadata": {},
     "output_type": "execute_result"
    }
   ],
   "source": [
    "batting.head()"
   ]
  },
  {
   "cell_type": "code",
   "execution_count": 9,
   "id": "7133d1bd",
   "metadata": {},
   "outputs": [
    {
     "data": {
      "text/html": [
       "<div>\n",
       "<style scoped>\n",
       "    .dataframe tbody tr th:only-of-type {\n",
       "        vertical-align: middle;\n",
       "    }\n",
       "\n",
       "    .dataframe tbody tr th {\n",
       "        vertical-align: top;\n",
       "    }\n",
       "\n",
       "    .dataframe thead th {\n",
       "        text-align: right;\n",
       "    }\n",
       "</style>\n",
       "<table border=\"1\" class=\"dataframe\">\n",
       "  <thead>\n",
       "    <tr style=\"text-align: right;\">\n",
       "      <th></th>\n",
       "      <th>Match_id</th>\n",
       "      <th>Innings</th>\n",
       "      <th>Over</th>\n",
       "      <th>Delivery</th>\n",
       "      <th>Batsman</th>\n",
       "      <th>Bowler</th>\n",
       "      <th>non_striker</th>\n",
       "      <th>runs_batsman</th>\n",
       "      <th>runs_extras</th>\n",
       "      <th>extras_type</th>\n",
       "      <th>Runs_total</th>\n",
       "      <th>player_out</th>\n",
       "      <th>mode_of_dismissal</th>\n",
       "      <th>fielders_involved</th>\n",
       "    </tr>\n",
       "  </thead>\n",
       "  <tbody>\n",
       "    <tr>\n",
       "      <th>0</th>\n",
       "      <td>2016043001</td>\n",
       "      <td>1st innings</td>\n",
       "      <td>1</td>\n",
       "      <td>0.1</td>\n",
       "      <td>DA Warner</td>\n",
       "      <td>KW Richardson</td>\n",
       "      <td>S Dhawan</td>\n",
       "      <td>0</td>\n",
       "      <td>0</td>\n",
       "      <td>NaN</td>\n",
       "      <td>0</td>\n",
       "      <td>NaN</td>\n",
       "      <td>NaN</td>\n",
       "      <td>NaN</td>\n",
       "    </tr>\n",
       "    <tr>\n",
       "      <th>1</th>\n",
       "      <td>2016043001</td>\n",
       "      <td>1st innings</td>\n",
       "      <td>1</td>\n",
       "      <td>0.2</td>\n",
       "      <td>DA Warner</td>\n",
       "      <td>KW Richardson</td>\n",
       "      <td>S Dhawan</td>\n",
       "      <td>4</td>\n",
       "      <td>0</td>\n",
       "      <td>NaN</td>\n",
       "      <td>4</td>\n",
       "      <td>NaN</td>\n",
       "      <td>NaN</td>\n",
       "      <td>NaN</td>\n",
       "    </tr>\n",
       "    <tr>\n",
       "      <th>2</th>\n",
       "      <td>2016043001</td>\n",
       "      <td>1st innings</td>\n",
       "      <td>1</td>\n",
       "      <td>0.3</td>\n",
       "      <td>DA Warner</td>\n",
       "      <td>KW Richardson</td>\n",
       "      <td>S Dhawan</td>\n",
       "      <td>1</td>\n",
       "      <td>0</td>\n",
       "      <td>NaN</td>\n",
       "      <td>1</td>\n",
       "      <td>NaN</td>\n",
       "      <td>NaN</td>\n",
       "      <td>NaN</td>\n",
       "    </tr>\n",
       "    <tr>\n",
       "      <th>3</th>\n",
       "      <td>2016043001</td>\n",
       "      <td>1st innings</td>\n",
       "      <td>1</td>\n",
       "      <td>0.4</td>\n",
       "      <td>S Dhawan</td>\n",
       "      <td>KW Richardson</td>\n",
       "      <td>DA Warner</td>\n",
       "      <td>0</td>\n",
       "      <td>0</td>\n",
       "      <td>NaN</td>\n",
       "      <td>0</td>\n",
       "      <td>NaN</td>\n",
       "      <td>NaN</td>\n",
       "      <td>NaN</td>\n",
       "    </tr>\n",
       "    <tr>\n",
       "      <th>4</th>\n",
       "      <td>2016043001</td>\n",
       "      <td>1st innings</td>\n",
       "      <td>1</td>\n",
       "      <td>0.5</td>\n",
       "      <td>S Dhawan</td>\n",
       "      <td>KW Richardson</td>\n",
       "      <td>DA Warner</td>\n",
       "      <td>0</td>\n",
       "      <td>0</td>\n",
       "      <td>NaN</td>\n",
       "      <td>0</td>\n",
       "      <td>NaN</td>\n",
       "      <td>NaN</td>\n",
       "      <td>NaN</td>\n",
       "    </tr>\n",
       "  </tbody>\n",
       "</table>\n",
       "</div>"
      ],
      "text/plain": [
       "     Match_id      Innings  Over  Delivery    Batsman         Bowler  \\\n",
       "0  2016043001  1st innings     1       0.1  DA Warner  KW Richardson   \n",
       "1  2016043001  1st innings     1       0.2  DA Warner  KW Richardson   \n",
       "2  2016043001  1st innings     1       0.3  DA Warner  KW Richardson   \n",
       "3  2016043001  1st innings     1       0.4   S Dhawan  KW Richardson   \n",
       "4  2016043001  1st innings     1       0.5   S Dhawan  KW Richardson   \n",
       "\n",
       "  non_striker  runs_batsman  runs_extras extras_type  Runs_total player_out  \\\n",
       "0    S Dhawan             0            0         NaN           0        NaN   \n",
       "1    S Dhawan             4            0         NaN           4        NaN   \n",
       "2    S Dhawan             1            0         NaN           1        NaN   \n",
       "3   DA Warner             0            0         NaN           0        NaN   \n",
       "4   DA Warner             0            0         NaN           0        NaN   \n",
       "\n",
       "  mode_of_dismissal fielders_involved  \n",
       "0               NaN               NaN  \n",
       "1               NaN               NaN  \n",
       "2               NaN               NaN  \n",
       "3               NaN               NaN  \n",
       "4               NaN               NaN  "
      ]
     },
     "execution_count": 9,
     "metadata": {},
     "output_type": "execute_result"
    }
   ],
   "source": [
    "deliveries.head()"
   ]
  },
  {
   "cell_type": "code",
   "execution_count": 10,
   "id": "4475a9fb",
   "metadata": {},
   "outputs": [
    {
     "data": {
      "text/html": [
       "<div>\n",
       "<style scoped>\n",
       "    .dataframe tbody tr th:only-of-type {\n",
       "        vertical-align: middle;\n",
       "    }\n",
       "\n",
       "    .dataframe tbody tr th {\n",
       "        vertical-align: top;\n",
       "    }\n",
       "\n",
       "    .dataframe thead th {\n",
       "        text-align: right;\n",
       "    }\n",
       "</style>\n",
       "<table border=\"1\" class=\"dataframe\">\n",
       "  <thead>\n",
       "    <tr style=\"text-align: right;\">\n",
       "      <th></th>\n",
       "      <th>match_date</th>\n",
       "      <th>Ground</th>\n",
       "      <th>Team 1</th>\n",
       "      <th>Team 2</th>\n",
       "      <th>Winner</th>\n",
       "      <th>year</th>\n",
       "      <th>month</th>\n",
       "      <th>day</th>\n",
       "      <th>win_mode</th>\n",
       "      <th>margin</th>\n",
       "      <th>toss_winner</th>\n",
       "      <th>toss_decision</th>\n",
       "      <th>match_no</th>\n",
       "    </tr>\n",
       "  </thead>\n",
       "  <tbody>\n",
       "    <tr>\n",
       "      <th>0</th>\n",
       "      <td>2008-04-18</td>\n",
       "      <td>Bengaluru, Bangalore</td>\n",
       "      <td>Royal Challengers Bangalore</td>\n",
       "      <td>Kolkata Knight Riders</td>\n",
       "      <td>Kolkata Knight Riders</td>\n",
       "      <td>2008</td>\n",
       "      <td>4</td>\n",
       "      <td>18</td>\n",
       "      <td>Runs</td>\n",
       "      <td>140.0</td>\n",
       "      <td>Royal Challengers Bangalore</td>\n",
       "      <td>field first</td>\n",
       "      <td>1</td>\n",
       "    </tr>\n",
       "    <tr>\n",
       "      <th>1</th>\n",
       "      <td>2008-04-19</td>\n",
       "      <td>Mohali, Chandigarh</td>\n",
       "      <td>Kings XI Punjab</td>\n",
       "      <td>Chennai Super Kings</td>\n",
       "      <td>Chennai Super Kings</td>\n",
       "      <td>2008</td>\n",
       "      <td>4</td>\n",
       "      <td>19</td>\n",
       "      <td>Runs</td>\n",
       "      <td>33.0</td>\n",
       "      <td>Chennai Super Kings</td>\n",
       "      <td>bat first</td>\n",
       "      <td>2</td>\n",
       "    </tr>\n",
       "    <tr>\n",
       "      <th>2</th>\n",
       "      <td>2008-04-19</td>\n",
       "      <td>Delhi</td>\n",
       "      <td>Delhi Capitals</td>\n",
       "      <td>Rajasthan Royals</td>\n",
       "      <td>Delhi Capitals</td>\n",
       "      <td>2008</td>\n",
       "      <td>4</td>\n",
       "      <td>19</td>\n",
       "      <td>Wickets</td>\n",
       "      <td>9.0</td>\n",
       "      <td>Rajasthan Royals</td>\n",
       "      <td>bat first</td>\n",
       "      <td>3</td>\n",
       "    </tr>\n",
       "    <tr>\n",
       "      <th>3</th>\n",
       "      <td>2008-04-20</td>\n",
       "      <td>Kolkata</td>\n",
       "      <td>Kolkata Knight Riders</td>\n",
       "      <td>Deccan Chargers</td>\n",
       "      <td>Kolkata Knight Riders</td>\n",
       "      <td>2008</td>\n",
       "      <td>4</td>\n",
       "      <td>20</td>\n",
       "      <td>Wickets</td>\n",
       "      <td>5.0</td>\n",
       "      <td>Deccan Chargers</td>\n",
       "      <td>bat first</td>\n",
       "      <td>4</td>\n",
       "    </tr>\n",
       "    <tr>\n",
       "      <th>4</th>\n",
       "      <td>2008-04-20</td>\n",
       "      <td>Mumbai</td>\n",
       "      <td>Mumbai Indians</td>\n",
       "      <td>Royal Challengers Bangalore</td>\n",
       "      <td>Royal Challengers Bangalore</td>\n",
       "      <td>2008</td>\n",
       "      <td>4</td>\n",
       "      <td>20</td>\n",
       "      <td>Wickets</td>\n",
       "      <td>5.0</td>\n",
       "      <td>Mumbai Indians</td>\n",
       "      <td>bat first</td>\n",
       "      <td>5</td>\n",
       "    </tr>\n",
       "  </tbody>\n",
       "</table>\n",
       "</div>"
      ],
      "text/plain": [
       "   match_date                Ground                       Team 1  \\\n",
       "0  2008-04-18  Bengaluru, Bangalore  Royal Challengers Bangalore   \n",
       "1  2008-04-19    Mohali, Chandigarh              Kings XI Punjab   \n",
       "2  2008-04-19                 Delhi               Delhi Capitals   \n",
       "3  2008-04-20               Kolkata        Kolkata Knight Riders   \n",
       "4  2008-04-20                Mumbai               Mumbai Indians   \n",
       "\n",
       "                        Team 2                       Winner  year  month  day  \\\n",
       "0        Kolkata Knight Riders        Kolkata Knight Riders  2008      4   18   \n",
       "1          Chennai Super Kings          Chennai Super Kings  2008      4   19   \n",
       "2             Rajasthan Royals               Delhi Capitals  2008      4   19   \n",
       "3              Deccan Chargers        Kolkata Knight Riders  2008      4   20   \n",
       "4  Royal Challengers Bangalore  Royal Challengers Bangalore  2008      4   20   \n",
       "\n",
       "  win_mode  margin                  toss_winner toss_decision  match_no  \n",
       "0     Runs   140.0  Royal Challengers Bangalore   field first         1  \n",
       "1     Runs    33.0          Chennai Super Kings     bat first         2  \n",
       "2  Wickets     9.0             Rajasthan Royals     bat first         3  \n",
       "3  Wickets     5.0              Deccan Chargers     bat first         4  \n",
       "4  Wickets     5.0               Mumbai Indians     bat first         5  "
      ]
     },
     "execution_count": 10,
     "metadata": {},
     "output_type": "execute_result"
    }
   ],
   "source": [
    "matches.head()"
   ]
  },
  {
   "cell_type": "markdown",
   "id": "42915e36",
   "metadata": {},
   "source": [
    "## **Question 1**\n",
    "Write **Python** code for the following\n",
    "* Read the **ipl_matches.csv** dataset\n",
    "* Display **data-type** of each column\n",
    "* Define **granularity** for the dataset **ipl_matches**\n",
    "* Write code to create a **primary key** as a **new column** for the dataset \n",
    "  * Convert match_date into the format **YYYYMMDD**\n",
    "  * Depending upon whether the given match is the **1st** of **2nd** for the day, append a string **01 or 02** to the end\n",
    "  * **Ex.** if 2 matches took place on 18-04-2009 then the primary key of the 1st match should look like **2009041801** and second match as **2009041802**"
   ]
  },
  {
   "cell_type": "markdown",
   "id": "e4244eea",
   "metadata": {},
   "source": [
    "### Data type of each column "
   ]
  },
  {
   "cell_type": "code",
   "execution_count": 11,
   "id": "3f03e057",
   "metadata": {},
   "outputs": [
    {
     "data": {
      "text/plain": [
       "match_date        object\n",
       "Ground            object\n",
       "Team 1            object\n",
       "Team 2            object\n",
       "Winner            object\n",
       "year               int64\n",
       "month              int64\n",
       "day                int64\n",
       "win_mode          object\n",
       "margin           float64\n",
       "toss_winner       object\n",
       "toss_decision     object\n",
       "match_no           int64\n",
       "dtype: object"
      ]
     },
     "execution_count": 11,
     "metadata": {},
     "output_type": "execute_result"
    }
   ],
   "source": [
    "matches.dtypes"
   ]
  },
  {
   "cell_type": "markdown",
   "id": "b1c430d5",
   "metadata": {},
   "source": [
    "### Granularity of the dataset\n",
    "Match Date, Team_1, Team_2, Winner, Ground"
   ]
  },
  {
   "cell_type": "code",
   "execution_count": 12,
   "id": "1ee40622",
   "metadata": {},
   "outputs": [],
   "source": [
    "date = matches.match_date\n",
    "key = []\n",
    "visited = []\n",
    "for i in date:\n",
    "    if i in visited:\n",
    "        number = visited.count(i)\n",
    "        temp = i.split('-')\n",
    "        temp1 = temp[0]+temp[1]+temp[2]+'0'+str(number+1)\n",
    "        visited.append(i)\n",
    "        key.append(temp1)\n",
    "    else:\n",
    "        temp = i.split('-')\n",
    "        temp1 = temp[0]+temp[1]+temp[2]+'01'\n",
    "        key.append(temp1)\n",
    "        visited.append(i)"
   ]
  },
  {
   "cell_type": "code",
   "execution_count": 13,
   "id": "441f594d",
   "metadata": {},
   "outputs": [],
   "source": [
    "matches['match_key'] = key"
   ]
  },
  {
   "cell_type": "code",
   "execution_count": 14,
   "id": "ab3e3cb4",
   "metadata": {},
   "outputs": [
    {
     "data": {
      "text/html": [
       "<div>\n",
       "<style scoped>\n",
       "    .dataframe tbody tr th:only-of-type {\n",
       "        vertical-align: middle;\n",
       "    }\n",
       "\n",
       "    .dataframe tbody tr th {\n",
       "        vertical-align: top;\n",
       "    }\n",
       "\n",
       "    .dataframe thead th {\n",
       "        text-align: right;\n",
       "    }\n",
       "</style>\n",
       "<table border=\"1\" class=\"dataframe\">\n",
       "  <thead>\n",
       "    <tr style=\"text-align: right;\">\n",
       "      <th></th>\n",
       "      <th>match_date</th>\n",
       "      <th>Ground</th>\n",
       "      <th>Team 1</th>\n",
       "      <th>Team 2</th>\n",
       "      <th>Winner</th>\n",
       "      <th>year</th>\n",
       "      <th>month</th>\n",
       "      <th>day</th>\n",
       "      <th>win_mode</th>\n",
       "      <th>margin</th>\n",
       "      <th>toss_winner</th>\n",
       "      <th>toss_decision</th>\n",
       "      <th>match_no</th>\n",
       "      <th>match_key</th>\n",
       "    </tr>\n",
       "  </thead>\n",
       "  <tbody>\n",
       "    <tr>\n",
       "      <th>0</th>\n",
       "      <td>2008-04-18</td>\n",
       "      <td>Bengaluru, Bangalore</td>\n",
       "      <td>Royal Challengers Bangalore</td>\n",
       "      <td>Kolkata Knight Riders</td>\n",
       "      <td>Kolkata Knight Riders</td>\n",
       "      <td>2008</td>\n",
       "      <td>4</td>\n",
       "      <td>18</td>\n",
       "      <td>Runs</td>\n",
       "      <td>140.0</td>\n",
       "      <td>Royal Challengers Bangalore</td>\n",
       "      <td>field first</td>\n",
       "      <td>1</td>\n",
       "      <td>2008041801</td>\n",
       "    </tr>\n",
       "    <tr>\n",
       "      <th>1</th>\n",
       "      <td>2008-04-19</td>\n",
       "      <td>Mohali, Chandigarh</td>\n",
       "      <td>Kings XI Punjab</td>\n",
       "      <td>Chennai Super Kings</td>\n",
       "      <td>Chennai Super Kings</td>\n",
       "      <td>2008</td>\n",
       "      <td>4</td>\n",
       "      <td>19</td>\n",
       "      <td>Runs</td>\n",
       "      <td>33.0</td>\n",
       "      <td>Chennai Super Kings</td>\n",
       "      <td>bat first</td>\n",
       "      <td>2</td>\n",
       "      <td>2008041901</td>\n",
       "    </tr>\n",
       "    <tr>\n",
       "      <th>2</th>\n",
       "      <td>2008-04-19</td>\n",
       "      <td>Delhi</td>\n",
       "      <td>Delhi Capitals</td>\n",
       "      <td>Rajasthan Royals</td>\n",
       "      <td>Delhi Capitals</td>\n",
       "      <td>2008</td>\n",
       "      <td>4</td>\n",
       "      <td>19</td>\n",
       "      <td>Wickets</td>\n",
       "      <td>9.0</td>\n",
       "      <td>Rajasthan Royals</td>\n",
       "      <td>bat first</td>\n",
       "      <td>3</td>\n",
       "      <td>2008041902</td>\n",
       "    </tr>\n",
       "    <tr>\n",
       "      <th>3</th>\n",
       "      <td>2008-04-20</td>\n",
       "      <td>Kolkata</td>\n",
       "      <td>Kolkata Knight Riders</td>\n",
       "      <td>Deccan Chargers</td>\n",
       "      <td>Kolkata Knight Riders</td>\n",
       "      <td>2008</td>\n",
       "      <td>4</td>\n",
       "      <td>20</td>\n",
       "      <td>Wickets</td>\n",
       "      <td>5.0</td>\n",
       "      <td>Deccan Chargers</td>\n",
       "      <td>bat first</td>\n",
       "      <td>4</td>\n",
       "      <td>2008042001</td>\n",
       "    </tr>\n",
       "    <tr>\n",
       "      <th>4</th>\n",
       "      <td>2008-04-20</td>\n",
       "      <td>Mumbai</td>\n",
       "      <td>Mumbai Indians</td>\n",
       "      <td>Royal Challengers Bangalore</td>\n",
       "      <td>Royal Challengers Bangalore</td>\n",
       "      <td>2008</td>\n",
       "      <td>4</td>\n",
       "      <td>20</td>\n",
       "      <td>Wickets</td>\n",
       "      <td>5.0</td>\n",
       "      <td>Mumbai Indians</td>\n",
       "      <td>bat first</td>\n",
       "      <td>5</td>\n",
       "      <td>2008042002</td>\n",
       "    </tr>\n",
       "  </tbody>\n",
       "</table>\n",
       "</div>"
      ],
      "text/plain": [
       "   match_date                Ground                       Team 1  \\\n",
       "0  2008-04-18  Bengaluru, Bangalore  Royal Challengers Bangalore   \n",
       "1  2008-04-19    Mohali, Chandigarh              Kings XI Punjab   \n",
       "2  2008-04-19                 Delhi               Delhi Capitals   \n",
       "3  2008-04-20               Kolkata        Kolkata Knight Riders   \n",
       "4  2008-04-20                Mumbai               Mumbai Indians   \n",
       "\n",
       "                        Team 2                       Winner  year  month  day  \\\n",
       "0        Kolkata Knight Riders        Kolkata Knight Riders  2008      4   18   \n",
       "1          Chennai Super Kings          Chennai Super Kings  2008      4   19   \n",
       "2             Rajasthan Royals               Delhi Capitals  2008      4   19   \n",
       "3              Deccan Chargers        Kolkata Knight Riders  2008      4   20   \n",
       "4  Royal Challengers Bangalore  Royal Challengers Bangalore  2008      4   20   \n",
       "\n",
       "  win_mode  margin                  toss_winner toss_decision  match_no  \\\n",
       "0     Runs   140.0  Royal Challengers Bangalore   field first         1   \n",
       "1     Runs    33.0          Chennai Super Kings     bat first         2   \n",
       "2  Wickets     9.0             Rajasthan Royals     bat first         3   \n",
       "3  Wickets     5.0              Deccan Chargers     bat first         4   \n",
       "4  Wickets     5.0               Mumbai Indians     bat first         5   \n",
       "\n",
       "    match_key  \n",
       "0  2008041801  \n",
       "1  2008041901  \n",
       "2  2008041902  \n",
       "3  2008042001  \n",
       "4  2008042002  "
      ]
     },
     "execution_count": 14,
     "metadata": {},
     "output_type": "execute_result"
    }
   ],
   "source": [
    "matches.head()"
   ]
  },
  {
   "cell_type": "markdown",
   "id": "e4aa9590",
   "metadata": {},
   "source": [
    "### **Question 2** \n",
    "Let's look at the below statement : <br>\n",
    "**It is said that you win half the match if you win the toss** <br><br>\n",
    "So, let's understand to what extent teams who **won the toss** also **won the matches**\n",
    "  * Write code to find out **% matches by team** (across all seasons) where they **won the toss**\n",
    "  * What **% of matches** which the teams **won the toss also ended up winning the matches**?\n",
    "  * Exhibit the above as a **% of total matches**\n",
    "  * Which team tops the chart? Meaning which team took full advantage of the opportunity of winning the toss\n",
    "\n",
    "**Ex :** If CSK played a total of **100** matches and won toss in **70** of them. This would mean **70%** of tosses were won by them. Now, if out of these 70 they ended up winning **28** of them then they won **40%** of the matches where they had won the toss. This is **28%** of total matches"
   ]
  },
  {
   "cell_type": "code",
   "execution_count": 15,
   "id": "22cad326",
   "metadata": {},
   "outputs": [
    {
     "data": {
      "text/plain": [
       "array(['Royal Challengers Bangalore', 'Kings XI Punjab', 'Delhi Capitals',\n",
       "       'Kolkata Knight Riders', 'Mumbai Indians', 'Rajasthan Royals',\n",
       "       'Deccan Chargers', 'Chennai Super Kings', 'Kochi Tuskers Kerala',\n",
       "       'Pune Warriors', 'Sunrisers Hyderabad', 'Gujarat Lions',\n",
       "       'Rising Pune Supergiant'], dtype=object)"
      ]
     },
     "execution_count": 15,
     "metadata": {},
     "output_type": "execute_result"
    }
   ],
   "source": [
    "matches['Team 1'].unique()"
   ]
  },
  {
   "cell_type": "code",
   "execution_count": 16,
   "id": "8dbae600",
   "metadata": {},
   "outputs": [
    {
     "data": {
      "text/plain": [
       "array(['Kolkata Knight Riders', 'Chennai Super Kings', 'Rajasthan Royals',\n",
       "       'Deccan Chargers', 'Royal Challengers Bangalore',\n",
       "       'Kings XI Punjab', 'Delhi Capitals', 'Mumbai Indians',\n",
       "       'Kochi Tuskers Kerala', 'Pune Warriors', 'Sunrisers Hyderabad',\n",
       "       'Rising Pune Supergiant', 'Gujarat Lions'], dtype=object)"
      ]
     },
     "execution_count": 16,
     "metadata": {},
     "output_type": "execute_result"
    }
   ],
   "source": [
    "matches['Team 2'].unique()"
   ]
  },
  {
   "cell_type": "code",
   "execution_count": 17,
   "id": "38c60b9d",
   "metadata": {},
   "outputs": [
    {
     "data": {
      "text/plain": [
       "array(['Royal Challengers Bangalore', 'Chennai Super Kings',\n",
       "       'Rajasthan Royals', 'Deccan Chargers', 'Mumbai Indians',\n",
       "       'Kings XI Punjab', 'Kolkata Knight Riders', 'Delhi Capitals',\n",
       "       'no toss', 'Kochi Tuskers Kerala', 'Pune Warriors',\n",
       "       'Sunrisers Hyderabad', 'Gujarat Lions', 'Rising Pune Supergiants',\n",
       "       'Rising Pune Supergiant'], dtype=object)"
      ]
     },
     "execution_count": 17,
     "metadata": {},
     "output_type": "execute_result"
    }
   ],
   "source": [
    "matches['toss_winner'].unique()"
   ]
  },
  {
   "cell_type": "code",
   "execution_count": 18,
   "id": "6c4711c5",
   "metadata": {},
   "outputs": [],
   "source": [
    "matches['toss_winner'].replace(to_replace=\"Rising Pune Supergiants\",value=\"Rising Pune Supergiant\",inplace=True)"
   ]
  },
  {
   "cell_type": "code",
   "execution_count": 19,
   "id": "fc8bb4f2",
   "metadata": {},
   "outputs": [
    {
     "data": {
      "text/plain": [
       "array(['Royal Challengers Bangalore', 'Chennai Super Kings',\n",
       "       'Rajasthan Royals', 'Deccan Chargers', 'Mumbai Indians',\n",
       "       'Kings XI Punjab', 'Kolkata Knight Riders', 'Delhi Capitals',\n",
       "       'no toss', 'Kochi Tuskers Kerala', 'Pune Warriors',\n",
       "       'Sunrisers Hyderabad', 'Gujarat Lions', 'Rising Pune Supergiant'],\n",
       "      dtype=object)"
      ]
     },
     "execution_count": 19,
     "metadata": {},
     "output_type": "execute_result"
    }
   ],
   "source": [
    "matches['toss_winner'].unique()"
   ]
  },
  {
   "cell_type": "code",
   "execution_count": 20,
   "id": "0b6d89eb",
   "metadata": {},
   "outputs": [],
   "source": [
    "team_1 = matches['Team 1'].groupby(matches['Team 1']).agg('count')"
   ]
  },
  {
   "cell_type": "code",
   "execution_count": 21,
   "id": "97c7d31e",
   "metadata": {},
   "outputs": [
    {
     "data": {
      "text/plain": [
       "Team 1\n",
       "Chennai Super Kings             91\n",
       "Deccan Chargers                 39\n",
       "Delhi Capitals                  92\n",
       "Gujarat Lions                   16\n",
       "Kings XI Punjab                 87\n",
       "Kochi Tuskers Kerala             7\n",
       "Kolkata Knight Riders           87\n",
       "Mumbai Indians                  87\n",
       "Pune Warriors                   23\n",
       "Rajasthan Royals                66\n",
       "Rising Pune Supergiant          14\n",
       "Royal Challengers Bangalore    101\n",
       "Sunrisers Hyderabad             53\n",
       "Name: Team 1, dtype: int64"
      ]
     },
     "execution_count": 21,
     "metadata": {},
     "output_type": "execute_result"
    }
   ],
   "source": [
    "team_1"
   ]
  },
  {
   "cell_type": "code",
   "execution_count": 22,
   "id": "d26fceeb",
   "metadata": {},
   "outputs": [],
   "source": [
    "team_2 = matches['Team 2'].groupby(matches['Team 2']).agg('count')"
   ]
  },
  {
   "cell_type": "code",
   "execution_count": 23,
   "id": "676ffc27",
   "metadata": {},
   "outputs": [
    {
     "data": {
      "text/plain": [
       "Team 2\n",
       "Chennai Super Kings             75\n",
       "Deccan Chargers                 37\n",
       "Delhi Capitals                  86\n",
       "Gujarat Lions                   14\n",
       "Kings XI Punjab                 88\n",
       "Kochi Tuskers Kerala             7\n",
       "Kolkata Knight Riders           94\n",
       "Mumbai Indians                 101\n",
       "Pune Warriors                   23\n",
       "Rajasthan Royals                84\n",
       "Rising Pune Supergiant          16\n",
       "Royal Challengers Bangalore     82\n",
       "Sunrisers Hyderabad             56\n",
       "Name: Team 2, dtype: int64"
      ]
     },
     "execution_count": 23,
     "metadata": {},
     "output_type": "execute_result"
    }
   ],
   "source": [
    "team_2"
   ]
  },
  {
   "cell_type": "code",
   "execution_count": 24,
   "id": "3fb0fde5",
   "metadata": {},
   "outputs": [],
   "source": [
    "total_matches = team_1 + team_2"
   ]
  },
  {
   "cell_type": "code",
   "execution_count": 25,
   "id": "2ae22824",
   "metadata": {},
   "outputs": [
    {
     "data": {
      "text/plain": [
       "Team 1\n",
       "Chennai Super Kings            166\n",
       "Deccan Chargers                 76\n",
       "Delhi Capitals                 178\n",
       "Gujarat Lions                   30\n",
       "Kings XI Punjab                175\n",
       "Kochi Tuskers Kerala            14\n",
       "Kolkata Knight Riders          181\n",
       "Mumbai Indians                 188\n",
       "Pune Warriors                   46\n",
       "Rajasthan Royals               150\n",
       "Rising Pune Supergiant          30\n",
       "Royal Challengers Bangalore    183\n",
       "Sunrisers Hyderabad            109\n",
       "dtype: int64"
      ]
     },
     "execution_count": 25,
     "metadata": {},
     "output_type": "execute_result"
    }
   ],
   "source": [
    "total_matches"
   ]
  },
  {
   "cell_type": "code",
   "execution_count": 26,
   "id": "fc3fa498",
   "metadata": {},
   "outputs": [],
   "source": [
    "toss_winners = matches['toss_winner'].groupby(matches['toss_winner']).agg('count')"
   ]
  },
  {
   "cell_type": "code",
   "execution_count": 27,
   "id": "18dac915",
   "metadata": {},
   "outputs": [
    {
     "data": {
      "text/plain": [
       "toss_winner\n",
       "Chennai Super Kings            89\n",
       "Deccan Chargers                43\n",
       "Delhi Capitals                 90\n",
       "Gujarat Lions                  15\n",
       "Kings XI Punjab                80\n",
       "Kochi Tuskers Kerala            8\n",
       "Kolkata Knight Riders          92\n",
       "Mumbai Indians                 98\n",
       "Pune Warriors                  20\n",
       "Rajasthan Royals               80\n",
       "Rising Pune Supergiant         13\n",
       "Royal Challengers Bangalore    82\n",
       "Sunrisers Hyderabad            46\n",
       "no toss                         7\n",
       "Name: toss_winner, dtype: int64"
      ]
     },
     "execution_count": 27,
     "metadata": {},
     "output_type": "execute_result"
    }
   ],
   "source": [
    "toss_winners"
   ]
  },
  {
   "cell_type": "code",
   "execution_count": 28,
   "id": "401fb61f",
   "metadata": {},
   "outputs": [],
   "source": [
    "percentage_winning_toss = (toss_winners/total_matches)*100"
   ]
  },
  {
   "cell_type": "code",
   "execution_count": 29,
   "id": "c09b4aff",
   "metadata": {},
   "outputs": [
    {
     "data": {
      "text/plain": [
       "Chennai Super Kings            53.614458\n",
       "Deccan Chargers                56.578947\n",
       "Delhi Capitals                 50.561798\n",
       "Gujarat Lions                  50.000000\n",
       "Kings XI Punjab                45.714286\n",
       "Kochi Tuskers Kerala           57.142857\n",
       "Kolkata Knight Riders          50.828729\n",
       "Mumbai Indians                 52.127660\n",
       "Pune Warriors                  43.478261\n",
       "Rajasthan Royals               53.333333\n",
       "Rising Pune Supergiant         43.333333\n",
       "Royal Challengers Bangalore    44.808743\n",
       "Sunrisers Hyderabad            42.201835\n",
       "no toss                              NaN\n",
       "dtype: float64"
      ]
     },
     "execution_count": 29,
     "metadata": {},
     "output_type": "execute_result"
    }
   ],
   "source": [
    "percentage_winning_toss"
   ]
  },
  {
   "cell_type": "code",
   "execution_count": 32,
   "id": "c5c6bd44",
   "metadata": {},
   "outputs": [],
   "source": [
    "match_winner = matches['Winner'].groupby(matches['Winner']).agg('count')"
   ]
  },
  {
   "cell_type": "code",
   "execution_count": 33,
   "id": "07c08204",
   "metadata": {},
   "outputs": [
    {
     "data": {
      "text/plain": [
       "Winner\n",
       "Chennai Super Kings            100\n",
       "Deccan Chargers                 29\n",
       "Delhi Capitals                  76\n",
       "Gujarat Lions                   13\n",
       "Kings XI Punjab                 80\n",
       "Kochi Tuskers Kerala             6\n",
       "Kolkata Knight Riders           91\n",
       "Match                            2\n",
       "Mumbai Indians                 107\n",
       "Pune Warriors                   12\n",
       "Rajasthan Royals                73\n",
       "Rising Pune Supergiant          15\n",
       "Royal Challengers Bangalore     83\n",
       "Sunrisers Hyderabad             57\n",
       "abandoned                        6\n",
       "no result                        5\n",
       "tied                             8\n",
       "Name: Winner, dtype: int64"
      ]
     },
     "execution_count": 33,
     "metadata": {},
     "output_type": "execute_result"
    }
   ],
   "source": [
    "match_winner"
   ]
  },
  {
   "cell_type": "code",
   "execution_count": 34,
   "id": "ad343daf",
   "metadata": {},
   "outputs": [],
   "source": [
    "toss_match_winner = matches['Team 1'].groupby([matches['Winner'],matches['toss_winner']]).agg('count')"
   ]
  },
  {
   "cell_type": "code",
   "execution_count": 35,
   "id": "cd28320d",
   "metadata": {},
   "outputs": [
    {
     "data": {
      "text/plain": [
       "Winner               toss_winner                \n",
       "Chennai Super Kings  Chennai Super Kings            57\n",
       "                     Deccan Chargers                 2\n",
       "                     Delhi Capitals                  7\n",
       "                     Kings XI Punjab                 3\n",
       "                     Kolkata Knight Riders           6\n",
       "                                                    ..\n",
       "tied                 Kings XI Punjab                 1\n",
       "                     Kolkata Knight Riders           1\n",
       "                     Mumbai Indians                  1\n",
       "                     Rajasthan Royals                1\n",
       "                     Royal Challengers Bangalore     2\n",
       "Name: Team 1, Length: 125, dtype: int64"
      ]
     },
     "execution_count": 35,
     "metadata": {},
     "output_type": "execute_result"
    }
   ],
   "source": [
    "toss_match_winner"
   ]
  },
  {
   "cell_type": "code",
   "execution_count": 36,
   "id": "2f9b3a77",
   "metadata": {},
   "outputs": [],
   "source": [
    "temp = toss_match_winner.reset_index()"
   ]
  },
  {
   "cell_type": "code",
   "execution_count": 37,
   "id": "54dee9a7",
   "metadata": {},
   "outputs": [],
   "source": [
    "df = temp.loc[temp['Winner'] == temp['toss_winner']]"
   ]
  },
  {
   "cell_type": "code",
   "execution_count": 38,
   "id": "70e7c3ca",
   "metadata": {},
   "outputs": [
    {
     "name": "stdout",
     "output_type": "stream",
     "text": [
      "[89 43 90 15 80  8 92 98 20 80 13 82 46  7]\n"
     ]
    }
   ],
   "source": [
    "dif = toss_winners.to_numpy()\n",
    "print(dif)\n",
    "dif = np.delete(dif,13)"
   ]
  },
  {
   "cell_type": "code",
   "execution_count": 41,
   "id": "fc5d272c",
   "metadata": {},
   "outputs": [],
   "source": [
    "df['Team'] = dif"
   ]
  },
  {
   "cell_type": "code",
   "execution_count": 42,
   "id": "7efb7cea",
   "metadata": {},
   "outputs": [
    {
     "ename": "KeyError",
     "evalue": "\"['Winner'] not found in axis\"",
     "output_type": "error",
     "traceback": [
      "\u001b[1;31m---------------------------------------------------------------------------\u001b[0m",
      "\u001b[1;31mKeyError\u001b[0m                                  Traceback (most recent call last)",
      "Cell \u001b[1;32mIn[42], line 1\u001b[0m\n\u001b[1;32m----> 1\u001b[0m df \u001b[38;5;241m=\u001b[39m df\u001b[38;5;241m.\u001b[39mdrop(columns\u001b[38;5;241m=\u001b[39m[\u001b[38;5;124m'\u001b[39m\u001b[38;5;124mWinner\u001b[39m\u001b[38;5;124m'\u001b[39m])\n",
      "File \u001b[1;32m~\\anaconda3\\Lib\\site-packages\\pandas\\core\\frame.py:5258\u001b[0m, in \u001b[0;36mDataFrame.drop\u001b[1;34m(self, labels, axis, index, columns, level, inplace, errors)\u001b[0m\n\u001b[0;32m   5110\u001b[0m \u001b[38;5;28;01mdef\u001b[39;00m \u001b[38;5;21mdrop\u001b[39m(\n\u001b[0;32m   5111\u001b[0m     \u001b[38;5;28mself\u001b[39m,\n\u001b[0;32m   5112\u001b[0m     labels: IndexLabel \u001b[38;5;241m=\u001b[39m \u001b[38;5;28;01mNone\u001b[39;00m,\n\u001b[1;32m   (...)\u001b[0m\n\u001b[0;32m   5119\u001b[0m     errors: IgnoreRaise \u001b[38;5;241m=\u001b[39m \u001b[38;5;124m\"\u001b[39m\u001b[38;5;124mraise\u001b[39m\u001b[38;5;124m\"\u001b[39m,\n\u001b[0;32m   5120\u001b[0m ) \u001b[38;5;241m-\u001b[39m\u001b[38;5;241m>\u001b[39m DataFrame \u001b[38;5;241m|\u001b[39m \u001b[38;5;28;01mNone\u001b[39;00m:\n\u001b[0;32m   5121\u001b[0m \u001b[38;5;250m    \u001b[39m\u001b[38;5;124;03m\"\"\"\u001b[39;00m\n\u001b[0;32m   5122\u001b[0m \u001b[38;5;124;03m    Drop specified labels from rows or columns.\u001b[39;00m\n\u001b[0;32m   5123\u001b[0m \n\u001b[1;32m   (...)\u001b[0m\n\u001b[0;32m   5256\u001b[0m \u001b[38;5;124;03m            weight  1.0     0.8\u001b[39;00m\n\u001b[0;32m   5257\u001b[0m \u001b[38;5;124;03m    \"\"\"\u001b[39;00m\n\u001b[1;32m-> 5258\u001b[0m     \u001b[38;5;28;01mreturn\u001b[39;00m \u001b[38;5;28msuper\u001b[39m()\u001b[38;5;241m.\u001b[39mdrop(\n\u001b[0;32m   5259\u001b[0m         labels\u001b[38;5;241m=\u001b[39mlabels,\n\u001b[0;32m   5260\u001b[0m         axis\u001b[38;5;241m=\u001b[39maxis,\n\u001b[0;32m   5261\u001b[0m         index\u001b[38;5;241m=\u001b[39mindex,\n\u001b[0;32m   5262\u001b[0m         columns\u001b[38;5;241m=\u001b[39mcolumns,\n\u001b[0;32m   5263\u001b[0m         level\u001b[38;5;241m=\u001b[39mlevel,\n\u001b[0;32m   5264\u001b[0m         inplace\u001b[38;5;241m=\u001b[39minplace,\n\u001b[0;32m   5265\u001b[0m         errors\u001b[38;5;241m=\u001b[39merrors,\n\u001b[0;32m   5266\u001b[0m     )\n",
      "File \u001b[1;32m~\\anaconda3\\Lib\\site-packages\\pandas\\core\\generic.py:4549\u001b[0m, in \u001b[0;36mNDFrame.drop\u001b[1;34m(self, labels, axis, index, columns, level, inplace, errors)\u001b[0m\n\u001b[0;32m   4547\u001b[0m \u001b[38;5;28;01mfor\u001b[39;00m axis, labels \u001b[38;5;129;01min\u001b[39;00m axes\u001b[38;5;241m.\u001b[39mitems():\n\u001b[0;32m   4548\u001b[0m     \u001b[38;5;28;01mif\u001b[39;00m labels \u001b[38;5;129;01mis\u001b[39;00m \u001b[38;5;129;01mnot\u001b[39;00m \u001b[38;5;28;01mNone\u001b[39;00m:\n\u001b[1;32m-> 4549\u001b[0m         obj \u001b[38;5;241m=\u001b[39m obj\u001b[38;5;241m.\u001b[39m_drop_axis(labels, axis, level\u001b[38;5;241m=\u001b[39mlevel, errors\u001b[38;5;241m=\u001b[39merrors)\n\u001b[0;32m   4551\u001b[0m \u001b[38;5;28;01mif\u001b[39;00m inplace:\n\u001b[0;32m   4552\u001b[0m     \u001b[38;5;28mself\u001b[39m\u001b[38;5;241m.\u001b[39m_update_inplace(obj)\n",
      "File \u001b[1;32m~\\anaconda3\\Lib\\site-packages\\pandas\\core\\generic.py:4591\u001b[0m, in \u001b[0;36mNDFrame._drop_axis\u001b[1;34m(self, labels, axis, level, errors, only_slice)\u001b[0m\n\u001b[0;32m   4589\u001b[0m         new_axis \u001b[38;5;241m=\u001b[39m axis\u001b[38;5;241m.\u001b[39mdrop(labels, level\u001b[38;5;241m=\u001b[39mlevel, errors\u001b[38;5;241m=\u001b[39merrors)\n\u001b[0;32m   4590\u001b[0m     \u001b[38;5;28;01melse\u001b[39;00m:\n\u001b[1;32m-> 4591\u001b[0m         new_axis \u001b[38;5;241m=\u001b[39m axis\u001b[38;5;241m.\u001b[39mdrop(labels, errors\u001b[38;5;241m=\u001b[39merrors)\n\u001b[0;32m   4592\u001b[0m     indexer \u001b[38;5;241m=\u001b[39m axis\u001b[38;5;241m.\u001b[39mget_indexer(new_axis)\n\u001b[0;32m   4594\u001b[0m \u001b[38;5;66;03m# Case for non-unique axis\u001b[39;00m\n\u001b[0;32m   4595\u001b[0m \u001b[38;5;28;01melse\u001b[39;00m:\n",
      "File \u001b[1;32m~\\anaconda3\\Lib\\site-packages\\pandas\\core\\indexes\\base.py:6699\u001b[0m, in \u001b[0;36mIndex.drop\u001b[1;34m(self, labels, errors)\u001b[0m\n\u001b[0;32m   6697\u001b[0m \u001b[38;5;28;01mif\u001b[39;00m mask\u001b[38;5;241m.\u001b[39many():\n\u001b[0;32m   6698\u001b[0m     \u001b[38;5;28;01mif\u001b[39;00m errors \u001b[38;5;241m!=\u001b[39m \u001b[38;5;124m\"\u001b[39m\u001b[38;5;124mignore\u001b[39m\u001b[38;5;124m\"\u001b[39m:\n\u001b[1;32m-> 6699\u001b[0m         \u001b[38;5;28;01mraise\u001b[39;00m \u001b[38;5;167;01mKeyError\u001b[39;00m(\u001b[38;5;124mf\u001b[39m\u001b[38;5;124m\"\u001b[39m\u001b[38;5;132;01m{\u001b[39;00m\u001b[38;5;28mlist\u001b[39m(labels[mask])\u001b[38;5;132;01m}\u001b[39;00m\u001b[38;5;124m not found in axis\u001b[39m\u001b[38;5;124m\"\u001b[39m)\n\u001b[0;32m   6700\u001b[0m     indexer \u001b[38;5;241m=\u001b[39m indexer[\u001b[38;5;241m~\u001b[39mmask]\n\u001b[0;32m   6701\u001b[0m \u001b[38;5;28;01mreturn\u001b[39;00m \u001b[38;5;28mself\u001b[39m\u001b[38;5;241m.\u001b[39mdelete(indexer)\n",
      "\u001b[1;31mKeyError\u001b[0m: \"['Winner'] not found in axis\""
     ]
    }
   ],
   "source": [
    "df = df.drop(columns=['Winner'])"
   ]
  },
  {
   "cell_type": "code",
   "execution_count": 43,
   "id": "a7f2e1ed",
   "metadata": {},
   "outputs": [],
   "source": [
    "df.columns = ['Team','Win+Toss','Toss']"
   ]
  },
  {
   "cell_type": "code",
   "execution_count": 44,
   "id": "206fcae4",
   "metadata": {},
   "outputs": [],
   "source": [
    "df['%(win+toss)'] = (df['Win+Toss']/df['Toss'])*100"
   ]
  },
  {
   "cell_type": "code",
   "execution_count": 45,
   "id": "4949ce5b",
   "metadata": {},
   "outputs": [],
   "source": [
    "tem = percentage_winning_toss.to_numpy()\n",
    "toss = np.delete(tem,13)"
   ]
  },
  {
   "cell_type": "code",
   "execution_count": 46,
   "id": "e1092a7a",
   "metadata": {},
   "outputs": [],
   "source": [
    "df['%toss'] = toss"
   ]
  },
  {
   "cell_type": "code",
   "execution_count": 47,
   "id": "954c7cb0",
   "metadata": {},
   "outputs": [],
   "source": [
    "df['total_matches']= total_matches.to_numpy()"
   ]
  },
  {
   "cell_type": "code",
   "execution_count": 48,
   "id": "cd702975",
   "metadata": {},
   "outputs": [],
   "source": [
    "df['%(win+toss)/total'] = (df['Win+Toss']/df['total_matches']) *100"
   ]
  },
  {
   "cell_type": "code",
   "execution_count": 49,
   "id": "3d8acd10",
   "metadata": {},
   "outputs": [
    {
     "data": {
      "text/html": [
       "<div>\n",
       "<style scoped>\n",
       "    .dataframe tbody tr th:only-of-type {\n",
       "        vertical-align: middle;\n",
       "    }\n",
       "\n",
       "    .dataframe tbody tr th {\n",
       "        vertical-align: top;\n",
       "    }\n",
       "\n",
       "    .dataframe thead th {\n",
       "        text-align: right;\n",
       "    }\n",
       "</style>\n",
       "<table border=\"1\" class=\"dataframe\">\n",
       "  <thead>\n",
       "    <tr style=\"text-align: right;\">\n",
       "      <th></th>\n",
       "      <th>Team</th>\n",
       "      <th>Win+Toss</th>\n",
       "      <th>Toss</th>\n",
       "      <th>%(win+toss)</th>\n",
       "      <th>%toss</th>\n",
       "      <th>total_matches</th>\n",
       "      <th>%(win+toss)/total</th>\n",
       "    </tr>\n",
       "  </thead>\n",
       "  <tbody>\n",
       "    <tr>\n",
       "      <th>0</th>\n",
       "      <td>Chennai Super Kings</td>\n",
       "      <td>57</td>\n",
       "      <td>89</td>\n",
       "      <td>64.044944</td>\n",
       "      <td>53.614458</td>\n",
       "      <td>166</td>\n",
       "      <td>34.337349</td>\n",
       "    </tr>\n",
       "    <tr>\n",
       "      <th>11</th>\n",
       "      <td>Deccan Chargers</td>\n",
       "      <td>19</td>\n",
       "      <td>43</td>\n",
       "      <td>44.186047</td>\n",
       "      <td>56.578947</td>\n",
       "      <td>76</td>\n",
       "      <td>25.000000</td>\n",
       "    </tr>\n",
       "    <tr>\n",
       "      <th>19</th>\n",
       "      <td>Delhi Capitals</td>\n",
       "      <td>41</td>\n",
       "      <td>90</td>\n",
       "      <td>45.555556</td>\n",
       "      <td>50.561798</td>\n",
       "      <td>178</td>\n",
       "      <td>23.033708</td>\n",
       "    </tr>\n",
       "    <tr>\n",
       "      <th>29</th>\n",
       "      <td>Gujarat Lions</td>\n",
       "      <td>10</td>\n",
       "      <td>15</td>\n",
       "      <td>66.666667</td>\n",
       "      <td>50.000000</td>\n",
       "      <td>30</td>\n",
       "      <td>33.333333</td>\n",
       "    </tr>\n",
       "    <tr>\n",
       "      <th>36</th>\n",
       "      <td>Kings XI Punjab</td>\n",
       "      <td>34</td>\n",
       "      <td>80</td>\n",
       "      <td>42.500000</td>\n",
       "      <td>45.714286</td>\n",
       "      <td>175</td>\n",
       "      <td>19.428571</td>\n",
       "    </tr>\n",
       "  </tbody>\n",
       "</table>\n",
       "</div>"
      ],
      "text/plain": [
       "                   Team  Win+Toss  Toss  %(win+toss)      %toss  \\\n",
       "0   Chennai Super Kings        57    89    64.044944  53.614458   \n",
       "11      Deccan Chargers        19    43    44.186047  56.578947   \n",
       "19       Delhi Capitals        41    90    45.555556  50.561798   \n",
       "29        Gujarat Lions        10    15    66.666667  50.000000   \n",
       "36      Kings XI Punjab        34    80    42.500000  45.714286   \n",
       "\n",
       "    total_matches  %(win+toss)/total  \n",
       "0             166          34.337349  \n",
       "11             76          25.000000  \n",
       "19            178          23.033708  \n",
       "29             30          33.333333  \n",
       "36            175          19.428571  "
      ]
     },
     "execution_count": 49,
     "metadata": {},
     "output_type": "execute_result"
    }
   ],
   "source": [
    "df.head()"
   ]
  },
  {
   "cell_type": "code",
   "execution_count": 53,
   "id": "4a62a0de",
   "metadata": {},
   "outputs": [
    {
     "data": {
      "text/plain": [
       "[Text(0, 0, 'Chennai Super Kings'),\n",
       " Text(1, 0, 'Deccan Chargers'),\n",
       " Text(2, 0, 'Delhi Capitals'),\n",
       " Text(3, 0, 'Gujarat Lions'),\n",
       " Text(4, 0, 'Kings XI Punjab'),\n",
       " Text(5, 0, 'Kochi Tuskers Kerala'),\n",
       " Text(6, 0, 'Kolkata Knight Riders'),\n",
       " Text(7, 0, 'Mumbai Indians'),\n",
       " Text(8, 0, 'Pune Warriors'),\n",
       " Text(9, 0, 'Rajasthan Royals'),\n",
       " Text(10, 0, 'Rising Pune Supergiant'),\n",
       " Text(11, 0, 'Royal Challengers Bangalore'),\n",
       " Text(12, 0, 'Sunrisers Hyderabad')]"
      ]
     },
     "execution_count": 53,
     "metadata": {},
     "output_type": "execute_result"
    },
    {
     "data": {
      "image/png": "[encoded data removed]",
      "text/plain": [
       "<Figure size 640x480 with 1 Axes>"
      ]
     },
     "metadata": {},
     "output_type": "display_data"
    }
   ],
   "source": [
    "ax = sns.barplot(x='Team', y='Win+Toss', data=df)\n",
    "\n",
    "ax.set_xticklabels(ax.get_xticklabels(), rotation=90)"
   ]
  },
  {
   "cell_type": "code",
   "execution_count": 55,
   "id": "877dffd6",
   "metadata": {},
   "outputs": [
    {
     "data": {
      "text/plain": [
       "[Text(0, 0, 'Chennai Super Kings'),\n",
       " Text(1, 0, 'Deccan Chargers'),\n",
       " Text(2, 0, 'Delhi Capitals'),\n",
       " Text(3, 0, 'Gujarat Lions'),\n",
       " Text(4, 0, 'Kings XI Punjab'),\n",
       " Text(5, 0, 'Kochi Tuskers Kerala'),\n",
       " Text(6, 0, 'Kolkata Knight Riders'),\n",
       " Text(7, 0, 'Mumbai Indians'),\n",
       " Text(8, 0, 'Pune Warriors'),\n",
       " Text(9, 0, 'Rajasthan Royals'),\n",
       " Text(10, 0, 'Rising Pune Supergiant'),\n",
       " Text(11, 0, 'Royal Challengers Bangalore'),\n",
       " Text(12, 0, 'Sunrisers Hyderabad')]"
      ]
     },
     "execution_count": 55,
     "metadata": {},
     "output_type": "execute_result"
    },
    {
     "data": {
      "image/png": "[encoded data removed]",
      "text/plain": [
       "<Figure size 640x480 with 1 Axes>"
      ]
     },
     "metadata": {},
     "output_type": "display_data"
    }
   ],
   "source": [
    "ax = sns.barplot(x='Team', y='%(win+toss)/total', data=df)\n",
    "\n",
    "ax.set_xticklabels(ax.get_xticklabels(), rotation=90)"
   ]
  },
  {
   "cell_type": "code",
   "execution_count": 56,
   "id": "ff21fbfb",
   "metadata": {},
   "outputs": [
    {
     "data": {
      "text/html": [
       "<div>\n",
       "<style scoped>\n",
       "    .dataframe tbody tr th:only-of-type {\n",
       "        vertical-align: middle;\n",
       "    }\n",
       "\n",
       "    .dataframe tbody tr th {\n",
       "        vertical-align: top;\n",
       "    }\n",
       "\n",
       "    .dataframe thead th {\n",
       "        text-align: right;\n",
       "    }\n",
       "</style>\n",
       "<table border=\"1\" class=\"dataframe\">\n",
       "  <thead>\n",
       "    <tr style=\"text-align: right;\">\n",
       "      <th></th>\n",
       "      <th>Team</th>\n",
       "      <th>Win+Toss</th>\n",
       "      <th>Toss</th>\n",
       "      <th>%(win+toss)</th>\n",
       "      <th>%toss</th>\n",
       "      <th>total_matches</th>\n",
       "      <th>%(win+toss)/total</th>\n",
       "    </tr>\n",
       "  </thead>\n",
       "  <tbody>\n",
       "    <tr>\n",
       "      <th>0</th>\n",
       "      <td>Chennai Super Kings</td>\n",
       "      <td>57</td>\n",
       "      <td>89</td>\n",
       "      <td>64.044944</td>\n",
       "      <td>53.614458</td>\n",
       "      <td>166</td>\n",
       "      <td>34.337349</td>\n",
       "    </tr>\n",
       "  </tbody>\n",
       "</table>\n",
       "</div>"
      ],
      "text/plain": [
       "                  Team  Win+Toss  Toss  %(win+toss)      %toss  total_matches  \\\n",
       "0  Chennai Super Kings        57    89    64.044944  53.614458            166   \n",
       "\n",
       "   %(win+toss)/total  \n",
       "0          34.337349  "
      ]
     },
     "execution_count": 56,
     "metadata": {},
     "output_type": "execute_result"
    }
   ],
   "source": [
    "df[df['%(win+toss)/total']==df['%(win+toss)/total'].max()]"
   ]
  },
  {
   "cell_type": "code",
   "execution_count": 57,
   "id": "6aadf228",
   "metadata": {},
   "outputs": [],
   "source": [
    "df['Win'] = df['Toss'] - df['Win+Toss']\n",
    "df['Lost'] = df['total_matches'] - df['Win']"
   ]
  },
  {
   "cell_type": "code",
   "execution_count": 58,
   "id": "cc80fd27",
   "metadata": {},
   "outputs": [],
   "source": [
    "df.to_csv(\"team_info.csv\")"
   ]
  },
  {
   "cell_type": "markdown",
   "id": "a24b8acd",
   "metadata": {},
   "source": [
    "#### Team which tops the chart is Chennai Super Kings"
   ]
  },
  {
   "cell_type": "markdown",
   "id": "e01eee70",
   "metadata": {},
   "source": [
    "### **Question 3** \n",
    "* List the names of the **top 10 batsmen** by total runs accumulated across all the seasons\n",
    "  * The output should be stored in a list"
   ]
  },
  {
   "cell_type": "code",
   "execution_count": 59,
   "id": "9c1c05e9",
   "metadata": {},
   "outputs": [],
   "source": [
    "batsmen = batting['R'].groupby(batting['batsmen']).sum()"
   ]
  },
  {
   "cell_type": "code",
   "execution_count": 60,
   "id": "d0c82ec9",
   "metadata": {},
   "outputs": [],
   "source": [
    "batsman = batsmen.reset_index()"
   ]
  },
  {
   "cell_type": "code",
   "execution_count": 62,
   "id": "d72b46c3",
   "metadata": {},
   "outputs": [],
   "source": [
    "batsman.sort_values(['R'], axis=0, ascending=False, inplace=True)"
   ]
  },
  {
   "cell_type": "markdown",
   "id": "7767f56d",
   "metadata": {},
   "source": [
    "#### Top 10 Batsman"
   ]
  },
  {
   "cell_type": "code",
   "execution_count": 63,
   "id": "d007d6f7",
   "metadata": {},
   "outputs": [
    {
     "data": {
      "text/html": [
       "<div>\n",
       "<style scoped>\n",
       "    .dataframe tbody tr th:only-of-type {\n",
       "        vertical-align: middle;\n",
       "    }\n",
       "\n",
       "    .dataframe tbody tr th {\n",
       "        vertical-align: top;\n",
       "    }\n",
       "\n",
       "    .dataframe thead th {\n",
       "        text-align: right;\n",
       "    }\n",
       "</style>\n",
       "<table border=\"1\" class=\"dataframe\">\n",
       "  <thead>\n",
       "    <tr style=\"text-align: right;\">\n",
       "      <th></th>\n",
       "      <th>batsmen</th>\n",
       "      <th>R</th>\n",
       "    </tr>\n",
       "  </thead>\n",
       "  <tbody>\n",
       "    <tr>\n",
       "      <th>487</th>\n",
       "      <td>V Kohli</td>\n",
       "      <td>5412.0</td>\n",
       "    </tr>\n",
       "    <tr>\n",
       "      <th>424</th>\n",
       "      <td>SK Raina</td>\n",
       "      <td>5368.0</td>\n",
       "    </tr>\n",
       "    <tr>\n",
       "      <th>366</th>\n",
       "      <td>RG Sharma</td>\n",
       "      <td>4898.0</td>\n",
       "    </tr>\n",
       "    <tr>\n",
       "      <th>113</th>\n",
       "      <td>DA Warner</td>\n",
       "      <td>4706.0</td>\n",
       "    </tr>\n",
       "    <tr>\n",
       "      <th>393</th>\n",
       "      <td>S Dhawan</td>\n",
       "      <td>4579.0</td>\n",
       "    </tr>\n",
       "    <tr>\n",
       "      <th>95</th>\n",
       "      <td>CH Gayle</td>\n",
       "      <td>4484.0</td>\n",
       "    </tr>\n",
       "    <tr>\n",
       "      <th>292</th>\n",
       "      <td>MS Dhoni</td>\n",
       "      <td>4432.0</td>\n",
       "    </tr>\n",
       "    <tr>\n",
       "      <th>385</th>\n",
       "      <td>RV Uthappa</td>\n",
       "      <td>4411.0</td>\n",
       "    </tr>\n",
       "    <tr>\n",
       "      <th>24</th>\n",
       "      <td>AB de Villiers</td>\n",
       "      <td>4395.0</td>\n",
       "    </tr>\n",
       "    <tr>\n",
       "      <th>150</th>\n",
       "      <td>G Gambhir</td>\n",
       "      <td>4217.0</td>\n",
       "    </tr>\n",
       "  </tbody>\n",
       "</table>\n",
       "</div>"
      ],
      "text/plain": [
       "            batsmen       R\n",
       "487         V Kohli  5412.0\n",
       "424        SK Raina  5368.0\n",
       "366       RG Sharma  4898.0\n",
       "113       DA Warner  4706.0\n",
       "393        S Dhawan  4579.0\n",
       "95         CH Gayle  4484.0\n",
       "292        MS Dhoni  4432.0\n",
       "385      RV Uthappa  4411.0\n",
       "24   AB de Villiers  4395.0\n",
       "150       G Gambhir  4217.0"
      ]
     },
     "execution_count": 63,
     "metadata": {},
     "output_type": "execute_result"
    }
   ],
   "source": [
    "batsman.head(10)"
   ]
  },
  {
   "cell_type": "markdown",
   "id": "384ca01e",
   "metadata": {},
   "source": [
    "### **Question 4**\n",
    "* Visualize the **runs made vs balls faced** in a jointplot. You should do this for all batsmen who batted in the **IPL season 2017**"
   ]
  },
  {
   "cell_type": "code",
   "execution_count": 64,
   "id": "925a021f",
   "metadata": {},
   "outputs": [],
   "source": [
    "df = batting\n",
    "dt = df.match_date\n",
    "col = list()\n",
    "for i in dt:\n",
    "    i = str(i)\n",
    "    temp = i.split('-')\n",
    "    col.append(temp[0])\n",
    "df['year'] = col"
   ]
  },
  {
   "cell_type": "code",
   "execution_count": 65,
   "id": "51c18034",
   "metadata": {},
   "outputs": [
    {
     "data": {
      "text/html": [
       "<div>\n",
       "<style scoped>\n",
       "    .dataframe tbody tr th:only-of-type {\n",
       "        vertical-align: middle;\n",
       "    }\n",
       "\n",
       "    .dataframe tbody tr th {\n",
       "        vertical-align: top;\n",
       "    }\n",
       "\n",
       "    .dataframe thead th {\n",
       "        text-align: right;\n",
       "    }\n",
       "</style>\n",
       "<table border=\"1\" class=\"dataframe\">\n",
       "  <thead>\n",
       "    <tr style=\"text-align: right;\">\n",
       "      <th></th>\n",
       "      <th>match_no</th>\n",
       "      <th>team_1</th>\n",
       "      <th>team_2</th>\n",
       "      <th>batsmen</th>\n",
       "      <th>wicket_status</th>\n",
       "      <th>R</th>\n",
       "      <th>B</th>\n",
       "      <th>M</th>\n",
       "      <th>fours</th>\n",
       "      <th>sixes</th>\n",
       "      <th>SR</th>\n",
       "      <th>special_role</th>\n",
       "      <th>dismissal_mode</th>\n",
       "      <th>bowler_name</th>\n",
       "      <th>fielder</th>\n",
       "      <th>is_fielder_involved</th>\n",
       "      <th>match_date</th>\n",
       "      <th>year</th>\n",
       "    </tr>\n",
       "  </thead>\n",
       "  <tbody>\n",
       "    <tr>\n",
       "      <th>0</th>\n",
       "      <td>1</td>\n",
       "      <td>Mumbai Indians</td>\n",
       "      <td>Chennai Super Kings</td>\n",
       "      <td>ST Jayasuriya</td>\n",
       "      <td>c Hayden b Thushara</td>\n",
       "      <td>26.0</td>\n",
       "      <td>20.0</td>\n",
       "      <td>0.0</td>\n",
       "      <td>5.0</td>\n",
       "      <td>0.0</td>\n",
       "      <td>130.00</td>\n",
       "      <td>normal player</td>\n",
       "      <td>caught</td>\n",
       "      <td>Thushara</td>\n",
       "      <td>Hayden</td>\n",
       "      <td>1</td>\n",
       "      <td>2009-04-18</td>\n",
       "      <td>2009</td>\n",
       "    </tr>\n",
       "    <tr>\n",
       "      <th>1</th>\n",
       "      <td>1</td>\n",
       "      <td>Mumbai Indians</td>\n",
       "      <td>Chennai Super Kings</td>\n",
       "      <td>SR Tendulkar</td>\n",
       "      <td>not out</td>\n",
       "      <td>59.0</td>\n",
       "      <td>49.0</td>\n",
       "      <td>0.0</td>\n",
       "      <td>7.0</td>\n",
       "      <td>0.0</td>\n",
       "      <td>120.40</td>\n",
       "      <td>captain</td>\n",
       "      <td>not out</td>\n",
       "      <td>no bowler</td>\n",
       "      <td>no fielder</td>\n",
       "      <td>0</td>\n",
       "      <td>2009-04-18</td>\n",
       "      <td>2009</td>\n",
       "    </tr>\n",
       "    <tr>\n",
       "      <th>2</th>\n",
       "      <td>1</td>\n",
       "      <td>Mumbai Indians</td>\n",
       "      <td>Chennai Super Kings</td>\n",
       "      <td>S Dhawan</td>\n",
       "      <td>c Dhoni b Gony</td>\n",
       "      <td>22.0</td>\n",
       "      <td>21.0</td>\n",
       "      <td>0.0</td>\n",
       "      <td>2.0</td>\n",
       "      <td>0.0</td>\n",
       "      <td>104.76</td>\n",
       "      <td>normal player</td>\n",
       "      <td>caught</td>\n",
       "      <td>Gony</td>\n",
       "      <td>Dhoni</td>\n",
       "      <td>1</td>\n",
       "      <td>2009-04-18</td>\n",
       "      <td>2009</td>\n",
       "    </tr>\n",
       "    <tr>\n",
       "      <th>3</th>\n",
       "      <td>1</td>\n",
       "      <td>Mumbai Indians</td>\n",
       "      <td>Chennai Super Kings</td>\n",
       "      <td>JP Duminy</td>\n",
       "      <td>c &amp; b Gony</td>\n",
       "      <td>9.0</td>\n",
       "      <td>7.0</td>\n",
       "      <td>0.0</td>\n",
       "      <td>1.0</td>\n",
       "      <td>0.0</td>\n",
       "      <td>128.57</td>\n",
       "      <td>normal player</td>\n",
       "      <td>caught</td>\n",
       "      <td>Gony</td>\n",
       "      <td>Gony</td>\n",
       "      <td>1</td>\n",
       "      <td>2009-04-18</td>\n",
       "      <td>2009</td>\n",
       "    </tr>\n",
       "    <tr>\n",
       "      <th>4</th>\n",
       "      <td>1</td>\n",
       "      <td>Mumbai Indians</td>\n",
       "      <td>Chennai Super Kings</td>\n",
       "      <td>DJ Bravo</td>\n",
       "      <td>c Hayden b Joginder Sharma</td>\n",
       "      <td>5.0</td>\n",
       "      <td>4.0</td>\n",
       "      <td>0.0</td>\n",
       "      <td>1.0</td>\n",
       "      <td>0.0</td>\n",
       "      <td>125.00</td>\n",
       "      <td>normal player</td>\n",
       "      <td>caught</td>\n",
       "      <td>Joginder Sharma</td>\n",
       "      <td>Hayden</td>\n",
       "      <td>1</td>\n",
       "      <td>2009-04-18</td>\n",
       "      <td>2009</td>\n",
       "    </tr>\n",
       "  </tbody>\n",
       "</table>\n",
       "</div>"
      ],
      "text/plain": [
       "  match_no          team_1               team_2        batsmen  \\\n",
       "0        1  Mumbai Indians  Chennai Super Kings  ST Jayasuriya   \n",
       "1        1  Mumbai Indians  Chennai Super Kings   SR Tendulkar   \n",
       "2        1  Mumbai Indians  Chennai Super Kings       S Dhawan   \n",
       "3        1  Mumbai Indians  Chennai Super Kings      JP Duminy   \n",
       "4        1  Mumbai Indians  Chennai Super Kings       DJ Bravo   \n",
       "\n",
       "                wicket_status     R     B    M  fours  sixes      SR  \\\n",
       "0         c Hayden b Thushara  26.0  20.0  0.0    5.0    0.0  130.00   \n",
       "1                     not out  59.0  49.0  0.0    7.0    0.0  120.40   \n",
       "2              c Dhoni b Gony  22.0  21.0  0.0    2.0    0.0  104.76   \n",
       "3                  c & b Gony   9.0   7.0  0.0    1.0    0.0  128.57   \n",
       "4  c Hayden b Joginder Sharma   5.0   4.0  0.0    1.0    0.0  125.00   \n",
       "\n",
       "    special_role dismissal_mode      bowler_name     fielder  \\\n",
       "0  normal player         caught         Thushara      Hayden   \n",
       "1        captain        not out        no bowler  no fielder   \n",
       "2  normal player         caught             Gony       Dhoni   \n",
       "3  normal player         caught             Gony        Gony   \n",
       "4  normal player         caught  Joginder Sharma      Hayden   \n",
       "\n",
       "   is_fielder_involved  match_date  year  \n",
       "0                    1  2009-04-18  2009  \n",
       "1                    0  2009-04-18  2009  \n",
       "2                    1  2009-04-18  2009  \n",
       "3                    1  2009-04-18  2009  \n",
       "4                    1  2009-04-18  2009  "
      ]
     },
     "execution_count": 65,
     "metadata": {},
     "output_type": "execute_result"
    }
   ],
   "source": [
    "df.head()"
   ]
  },
  {
   "cell_type": "code",
   "execution_count": 66,
   "id": "a460f31d",
   "metadata": {},
   "outputs": [
    {
     "data": {
      "text/html": [
       "<div>\n",
       "<style scoped>\n",
       "    .dataframe tbody tr th:only-of-type {\n",
       "        vertical-align: middle;\n",
       "    }\n",
       "\n",
       "    .dataframe tbody tr th {\n",
       "        vertical-align: top;\n",
       "    }\n",
       "\n",
       "    .dataframe thead th {\n",
       "        text-align: right;\n",
       "    }\n",
       "</style>\n",
       "<table border=\"1\" class=\"dataframe\">\n",
       "  <thead>\n",
       "    <tr style=\"text-align: right;\">\n",
       "      <th></th>\n",
       "      <th>match_no</th>\n",
       "      <th>team_1</th>\n",
       "      <th>team_2</th>\n",
       "      <th>batsmen</th>\n",
       "      <th>wicket_status</th>\n",
       "      <th>R</th>\n",
       "      <th>B</th>\n",
       "      <th>M</th>\n",
       "      <th>fours</th>\n",
       "      <th>sixes</th>\n",
       "      <th>SR</th>\n",
       "      <th>special_role</th>\n",
       "      <th>dismissal_mode</th>\n",
       "      <th>bowler_name</th>\n",
       "      <th>fielder</th>\n",
       "      <th>is_fielder_involved</th>\n",
       "      <th>match_date</th>\n",
       "      <th>year</th>\n",
       "    </tr>\n",
       "  </thead>\n",
       "  <tbody>\n",
       "    <tr>\n",
       "      <th>6962</th>\n",
       "      <td>1</td>\n",
       "      <td>Sunrisers Hyderabad</td>\n",
       "      <td>Royal Challengers Bangalore</td>\n",
       "      <td>DA Warner</td>\n",
       "      <td>c Mandeep Singh b Choudhary</td>\n",
       "      <td>14.0</td>\n",
       "      <td>8.0</td>\n",
       "      <td>10.0</td>\n",
       "      <td>2.0</td>\n",
       "      <td>1.0</td>\n",
       "      <td>175.00</td>\n",
       "      <td>captain</td>\n",
       "      <td>caught</td>\n",
       "      <td>Choudhary</td>\n",
       "      <td>Mandeep Singh</td>\n",
       "      <td>1</td>\n",
       "      <td>2017-04-05</td>\n",
       "      <td>2017</td>\n",
       "    </tr>\n",
       "    <tr>\n",
       "      <th>6963</th>\n",
       "      <td>1</td>\n",
       "      <td>Sunrisers Hyderabad</td>\n",
       "      <td>Royal Challengers Bangalore</td>\n",
       "      <td>S Dhawan</td>\n",
       "      <td>c Sachin Baby b Binny</td>\n",
       "      <td>40.0</td>\n",
       "      <td>31.0</td>\n",
       "      <td>51.0</td>\n",
       "      <td>5.0</td>\n",
       "      <td>0.0</td>\n",
       "      <td>129.03</td>\n",
       "      <td>normal player</td>\n",
       "      <td>caught</td>\n",
       "      <td>Binny</td>\n",
       "      <td>Sachin Baby</td>\n",
       "      <td>1</td>\n",
       "      <td>2017-04-05</td>\n",
       "      <td>2017</td>\n",
       "    </tr>\n",
       "    <tr>\n",
       "      <th>6964</th>\n",
       "      <td>1</td>\n",
       "      <td>Sunrisers Hyderabad</td>\n",
       "      <td>Royal Challengers Bangalore</td>\n",
       "      <td>MC Henriques</td>\n",
       "      <td>c Sachin Baby b Chahal</td>\n",
       "      <td>52.0</td>\n",
       "      <td>37.0</td>\n",
       "      <td>67.0</td>\n",
       "      <td>3.0</td>\n",
       "      <td>2.0</td>\n",
       "      <td>140.54</td>\n",
       "      <td>normal player</td>\n",
       "      <td>caught</td>\n",
       "      <td>Chahal</td>\n",
       "      <td>Sachin Baby</td>\n",
       "      <td>1</td>\n",
       "      <td>2017-04-05</td>\n",
       "      <td>2017</td>\n",
       "    </tr>\n",
       "    <tr>\n",
       "      <th>6965</th>\n",
       "      <td>1</td>\n",
       "      <td>Sunrisers Hyderabad</td>\n",
       "      <td>Royal Challengers Bangalore</td>\n",
       "      <td>Yuvraj Singh</td>\n",
       "      <td>b Mills</td>\n",
       "      <td>62.0</td>\n",
       "      <td>27.0</td>\n",
       "      <td>49.0</td>\n",
       "      <td>7.0</td>\n",
       "      <td>3.0</td>\n",
       "      <td>229.62</td>\n",
       "      <td>normal player</td>\n",
       "      <td>bowled</td>\n",
       "      <td>Mills</td>\n",
       "      <td>no fielder</td>\n",
       "      <td>0</td>\n",
       "      <td>2017-04-05</td>\n",
       "      <td>2017</td>\n",
       "    </tr>\n",
       "    <tr>\n",
       "      <th>6966</th>\n",
       "      <td>1</td>\n",
       "      <td>Sunrisers Hyderabad</td>\n",
       "      <td>Royal Challengers Bangalore</td>\n",
       "      <td>DJ Hooda</td>\n",
       "      <td>not out</td>\n",
       "      <td>16.0</td>\n",
       "      <td>12.0</td>\n",
       "      <td>29.0</td>\n",
       "      <td>0.0</td>\n",
       "      <td>1.0</td>\n",
       "      <td>133.33</td>\n",
       "      <td>normal player</td>\n",
       "      <td>not out</td>\n",
       "      <td>no bowler</td>\n",
       "      <td>no fielder</td>\n",
       "      <td>0</td>\n",
       "      <td>2017-04-05</td>\n",
       "      <td>2017</td>\n",
       "    </tr>\n",
       "  </tbody>\n",
       "</table>\n",
       "</div>"
      ],
      "text/plain": [
       "     match_no               team_1                       team_2       batsmen  \\\n",
       "6962        1  Sunrisers Hyderabad  Royal Challengers Bangalore     DA Warner   \n",
       "6963        1  Sunrisers Hyderabad  Royal Challengers Bangalore      S Dhawan   \n",
       "6964        1  Sunrisers Hyderabad  Royal Challengers Bangalore  MC Henriques   \n",
       "6965        1  Sunrisers Hyderabad  Royal Challengers Bangalore  Yuvraj Singh   \n",
       "6966        1  Sunrisers Hyderabad  Royal Challengers Bangalore      DJ Hooda   \n",
       "\n",
       "                    wicket_status     R     B     M  fours  sixes      SR  \\\n",
       "6962  c Mandeep Singh b Choudhary  14.0   8.0  10.0    2.0    1.0  175.00   \n",
       "6963        c Sachin Baby b Binny  40.0  31.0  51.0    5.0    0.0  129.03   \n",
       "6964       c Sachin Baby b Chahal  52.0  37.0  67.0    3.0    2.0  140.54   \n",
       "6965                      b Mills  62.0  27.0  49.0    7.0    3.0  229.62   \n",
       "6966                      not out  16.0  12.0  29.0    0.0    1.0  133.33   \n",
       "\n",
       "       special_role dismissal_mode bowler_name        fielder  \\\n",
       "6962        captain         caught   Choudhary  Mandeep Singh   \n",
       "6963  normal player         caught       Binny    Sachin Baby   \n",
       "6964  normal player         caught      Chahal    Sachin Baby   \n",
       "6965  normal player         bowled       Mills     no fielder   \n",
       "6966  normal player        not out   no bowler     no fielder   \n",
       "\n",
       "      is_fielder_involved  match_date  year  \n",
       "6962                    1  2017-04-05  2017  \n",
       "6963                    1  2017-04-05  2017  \n",
       "6964                    1  2017-04-05  2017  \n",
       "6965                    0  2017-04-05  2017  \n",
       "6966                    0  2017-04-05  2017  "
      ]
     },
     "execution_count": 66,
     "metadata": {},
     "output_type": "execute_result"
    }
   ],
   "source": [
    "df = df[df['year']=='2017']\n",
    "df.head()"
   ]
  },
  {
   "cell_type": "code",
   "execution_count": 67,
   "id": "145c76ca",
   "metadata": {},
   "outputs": [
    {
     "data": {
      "text/plain": [
       "<seaborn.axisgrid.JointGrid at 0x222136b9c90>"
      ]
     },
     "execution_count": 67,
     "metadata": {},
     "output_type": "execute_result"
    },
    {
     "data": {
      "image/png": "[encoded data removed]",
      "text/plain": [
       "<Figure size 600x600 with 3 Axes>"
      ]
     },
     "metadata": {},
     "output_type": "display_data"
    }
   ],
   "source": [
    "sns.jointplot(x='R',y='B',data=df)"
   ]
  },
  {
   "cell_type": "markdown",
   "id": "2348cedb",
   "metadata": {},
   "source": [
    "### **Question 5**\n",
    "* Create a new calculated column called **boundary_contribution**. It is calculated as : **(total runs made in 4s + 6s)/(total runs scored)**\n",
    "* Create a scatter-plot between **boundary_contribution** and **strike_rate** where each dot represents an innings by a batsman\n",
    "* Aggregate **boundary_contribution** by player and list down **top 10** players by boundary_contribution across all seasons"
   ]
  },
  {
   "cell_type": "code",
   "execution_count": 68,
   "id": "dc2eff22",
   "metadata": {},
   "outputs": [],
   "source": [
    "batting['boundary_contribution'] = (batting['fours']+batting['sixes'])/batting['R']"
   ]
  },
  {
   "cell_type": "code",
   "execution_count": 69,
   "id": "548e8c52",
   "metadata": {},
   "outputs": [
    {
     "data": {
      "text/html": [
       "<div>\n",
       "<style scoped>\n",
       "    .dataframe tbody tr th:only-of-type {\n",
       "        vertical-align: middle;\n",
       "    }\n",
       "\n",
       "    .dataframe tbody tr th {\n",
       "        vertical-align: top;\n",
       "    }\n",
       "\n",
       "    .dataframe thead th {\n",
       "        text-align: right;\n",
       "    }\n",
       "</style>\n",
       "<table border=\"1\" class=\"dataframe\">\n",
       "  <thead>\n",
       "    <tr style=\"text-align: right;\">\n",
       "      <th></th>\n",
       "      <th>match_no</th>\n",
       "      <th>team_1</th>\n",
       "      <th>team_2</th>\n",
       "      <th>batsmen</th>\n",
       "      <th>wicket_status</th>\n",
       "      <th>R</th>\n",
       "      <th>B</th>\n",
       "      <th>M</th>\n",
       "      <th>fours</th>\n",
       "      <th>sixes</th>\n",
       "      <th>SR</th>\n",
       "      <th>special_role</th>\n",
       "      <th>dismissal_mode</th>\n",
       "      <th>bowler_name</th>\n",
       "      <th>fielder</th>\n",
       "      <th>is_fielder_involved</th>\n",
       "      <th>match_date</th>\n",
       "      <th>year</th>\n",
       "      <th>boundary_contribution</th>\n",
       "    </tr>\n",
       "  </thead>\n",
       "  <tbody>\n",
       "    <tr>\n",
       "      <th>0</th>\n",
       "      <td>1</td>\n",
       "      <td>Mumbai Indians</td>\n",
       "      <td>Chennai Super Kings</td>\n",
       "      <td>ST Jayasuriya</td>\n",
       "      <td>c Hayden b Thushara</td>\n",
       "      <td>26.0</td>\n",
       "      <td>20.0</td>\n",
       "      <td>0.0</td>\n",
       "      <td>5.0</td>\n",
       "      <td>0.0</td>\n",
       "      <td>130.00</td>\n",
       "      <td>normal player</td>\n",
       "      <td>caught</td>\n",
       "      <td>Thushara</td>\n",
       "      <td>Hayden</td>\n",
       "      <td>1</td>\n",
       "      <td>2009-04-18</td>\n",
       "      <td>2009</td>\n",
       "      <td>0.192308</td>\n",
       "    </tr>\n",
       "    <tr>\n",
       "      <th>1</th>\n",
       "      <td>1</td>\n",
       "      <td>Mumbai Indians</td>\n",
       "      <td>Chennai Super Kings</td>\n",
       "      <td>SR Tendulkar</td>\n",
       "      <td>not out</td>\n",
       "      <td>59.0</td>\n",
       "      <td>49.0</td>\n",
       "      <td>0.0</td>\n",
       "      <td>7.0</td>\n",
       "      <td>0.0</td>\n",
       "      <td>120.40</td>\n",
       "      <td>captain</td>\n",
       "      <td>not out</td>\n",
       "      <td>no bowler</td>\n",
       "      <td>no fielder</td>\n",
       "      <td>0</td>\n",
       "      <td>2009-04-18</td>\n",
       "      <td>2009</td>\n",
       "      <td>0.118644</td>\n",
       "    </tr>\n",
       "    <tr>\n",
       "      <th>2</th>\n",
       "      <td>1</td>\n",
       "      <td>Mumbai Indians</td>\n",
       "      <td>Chennai Super Kings</td>\n",
       "      <td>S Dhawan</td>\n",
       "      <td>c Dhoni b Gony</td>\n",
       "      <td>22.0</td>\n",
       "      <td>21.0</td>\n",
       "      <td>0.0</td>\n",
       "      <td>2.0</td>\n",
       "      <td>0.0</td>\n",
       "      <td>104.76</td>\n",
       "      <td>normal player</td>\n",
       "      <td>caught</td>\n",
       "      <td>Gony</td>\n",
       "      <td>Dhoni</td>\n",
       "      <td>1</td>\n",
       "      <td>2009-04-18</td>\n",
       "      <td>2009</td>\n",
       "      <td>0.090909</td>\n",
       "    </tr>\n",
       "    <tr>\n",
       "      <th>3</th>\n",
       "      <td>1</td>\n",
       "      <td>Mumbai Indians</td>\n",
       "      <td>Chennai Super Kings</td>\n",
       "      <td>JP Duminy</td>\n",
       "      <td>c &amp; b Gony</td>\n",
       "      <td>9.0</td>\n",
       "      <td>7.0</td>\n",
       "      <td>0.0</td>\n",
       "      <td>1.0</td>\n",
       "      <td>0.0</td>\n",
       "      <td>128.57</td>\n",
       "      <td>normal player</td>\n",
       "      <td>caught</td>\n",
       "      <td>Gony</td>\n",
       "      <td>Gony</td>\n",
       "      <td>1</td>\n",
       "      <td>2009-04-18</td>\n",
       "      <td>2009</td>\n",
       "      <td>0.111111</td>\n",
       "    </tr>\n",
       "    <tr>\n",
       "      <th>4</th>\n",
       "      <td>1</td>\n",
       "      <td>Mumbai Indians</td>\n",
       "      <td>Chennai Super Kings</td>\n",
       "      <td>DJ Bravo</td>\n",
       "      <td>c Hayden b Joginder Sharma</td>\n",
       "      <td>5.0</td>\n",
       "      <td>4.0</td>\n",
       "      <td>0.0</td>\n",
       "      <td>1.0</td>\n",
       "      <td>0.0</td>\n",
       "      <td>125.00</td>\n",
       "      <td>normal player</td>\n",
       "      <td>caught</td>\n",
       "      <td>Joginder Sharma</td>\n",
       "      <td>Hayden</td>\n",
       "      <td>1</td>\n",
       "      <td>2009-04-18</td>\n",
       "      <td>2009</td>\n",
       "      <td>0.200000</td>\n",
       "    </tr>\n",
       "  </tbody>\n",
       "</table>\n",
       "</div>"
      ],
      "text/plain": [
       "  match_no          team_1               team_2        batsmen  \\\n",
       "0        1  Mumbai Indians  Chennai Super Kings  ST Jayasuriya   \n",
       "1        1  Mumbai Indians  Chennai Super Kings   SR Tendulkar   \n",
       "2        1  Mumbai Indians  Chennai Super Kings       S Dhawan   \n",
       "3        1  Mumbai Indians  Chennai Super Kings      JP Duminy   \n",
       "4        1  Mumbai Indians  Chennai Super Kings       DJ Bravo   \n",
       "\n",
       "                wicket_status     R     B    M  fours  sixes      SR  \\\n",
       "0         c Hayden b Thushara  26.0  20.0  0.0    5.0    0.0  130.00   \n",
       "1                     not out  59.0  49.0  0.0    7.0    0.0  120.40   \n",
       "2              c Dhoni b Gony  22.0  21.0  0.0    2.0    0.0  104.76   \n",
       "3                  c & b Gony   9.0   7.0  0.0    1.0    0.0  128.57   \n",
       "4  c Hayden b Joginder Sharma   5.0   4.0  0.0    1.0    0.0  125.00   \n",
       "\n",
       "    special_role dismissal_mode      bowler_name     fielder  \\\n",
       "0  normal player         caught         Thushara      Hayden   \n",
       "1        captain        not out        no bowler  no fielder   \n",
       "2  normal player         caught             Gony       Dhoni   \n",
       "3  normal player         caught             Gony        Gony   \n",
       "4  normal player         caught  Joginder Sharma      Hayden   \n",
       "\n",
       "   is_fielder_involved  match_date  year  boundary_contribution  \n",
       "0                    1  2009-04-18  2009               0.192308  \n",
       "1                    0  2009-04-18  2009               0.118644  \n",
       "2                    1  2009-04-18  2009               0.090909  \n",
       "3                    1  2009-04-18  2009               0.111111  \n",
       "4                    1  2009-04-18  2009               0.200000  "
      ]
     },
     "execution_count": 69,
     "metadata": {},
     "output_type": "execute_result"
    }
   ],
   "source": [
    "batting.head()"
   ]
  },
  {
   "cell_type": "code",
   "execution_count": 70,
   "id": "20472c05",
   "metadata": {},
   "outputs": [
    {
     "data": {
      "image/png": "[encoded data removed]",
      "text/plain": [
       "<Figure size 640x480 with 1 Axes>"
      ]
     },
     "metadata": {},
     "output_type": "display_data"
    }
   ],
   "source": [
    "ax = sns.scatterplot(x=\"boundary_contribution\", y=\"SR\", data=batting)"
   ]
  },
  {
   "cell_type": "code",
   "execution_count": 71,
   "id": "59ff61c2",
   "metadata": {},
   "outputs": [],
   "source": [
    "boundary_contribution = batting['boundary_contribution'].groupby(batting['batsmen']).sum()"
   ]
  },
  {
   "cell_type": "code",
   "execution_count": 72,
   "id": "c94d2ed8",
   "metadata": {},
   "outputs": [],
   "source": [
    "boundary_contribution = boundary_contribution.reset_index()"
   ]
  },
  {
   "cell_type": "code",
   "execution_count": 73,
   "id": "651c518e",
   "metadata": {},
   "outputs": [],
   "source": [
    "boundary_contribution.sort_values(['boundary_contribution'], axis=0, ascending=False, inplace=True)"
   ]
  },
  {
   "cell_type": "code",
   "execution_count": 75,
   "id": "ca6404af",
   "metadata": {},
   "outputs": [
    {
     "data": {
      "text/html": [
       "<div>\n",
       "<style scoped>\n",
       "    .dataframe tbody tr th:only-of-type {\n",
       "        vertical-align: middle;\n",
       "    }\n",
       "\n",
       "    .dataframe tbody tr th {\n",
       "        vertical-align: top;\n",
       "    }\n",
       "\n",
       "    .dataframe thead th {\n",
       "        text-align: right;\n",
       "    }\n",
       "</style>\n",
       "<table border=\"1\" class=\"dataframe\">\n",
       "  <thead>\n",
       "    <tr style=\"text-align: right;\">\n",
       "      <th></th>\n",
       "      <th>batsmen</th>\n",
       "      <th>boundary_contribution</th>\n",
       "    </tr>\n",
       "  </thead>\n",
       "  <tbody>\n",
       "    <tr>\n",
       "      <th>424</th>\n",
       "      <td>SK Raina</td>\n",
       "      <td>20.137846</td>\n",
       "    </tr>\n",
       "    <tr>\n",
       "      <th>385</th>\n",
       "      <td>RV Uthappa</td>\n",
       "      <td>19.642338</td>\n",
       "    </tr>\n",
       "    <tr>\n",
       "      <th>393</th>\n",
       "      <td>S Dhawan</td>\n",
       "      <td>19.483546</td>\n",
       "    </tr>\n",
       "    <tr>\n",
       "      <th>487</th>\n",
       "      <td>V Kohli</td>\n",
       "      <td>18.559622</td>\n",
       "    </tr>\n",
       "    <tr>\n",
       "      <th>366</th>\n",
       "      <td>RG Sharma</td>\n",
       "      <td>18.349718</td>\n",
       "    </tr>\n",
       "    <tr>\n",
       "      <th>95</th>\n",
       "      <td>CH Gayle</td>\n",
       "      <td>17.690974</td>\n",
       "    </tr>\n",
       "    <tr>\n",
       "      <th>150</th>\n",
       "      <td>G Gambhir</td>\n",
       "      <td>16.656673</td>\n",
       "    </tr>\n",
       "    <tr>\n",
       "      <th>442</th>\n",
       "      <td>SR Watson</td>\n",
       "      <td>16.126717</td>\n",
       "    </tr>\n",
       "    <tr>\n",
       "      <th>218</th>\n",
       "      <td>KD Karthik</td>\n",
       "      <td>16.010834</td>\n",
       "    </tr>\n",
       "    <tr>\n",
       "      <th>330</th>\n",
       "      <td>PA Patel</td>\n",
       "      <td>15.604900</td>\n",
       "    </tr>\n",
       "  </tbody>\n",
       "</table>\n",
       "</div>"
      ],
      "text/plain": [
       "        batsmen  boundary_contribution\n",
       "424    SK Raina              20.137846\n",
       "385  RV Uthappa              19.642338\n",
       "393    S Dhawan              19.483546\n",
       "487     V Kohli              18.559622\n",
       "366   RG Sharma              18.349718\n",
       "95     CH Gayle              17.690974\n",
       "150   G Gambhir              16.656673\n",
       "442   SR Watson              16.126717\n",
       "218  KD Karthik              16.010834\n",
       "330    PA Patel              15.604900"
      ]
     },
     "execution_count": 75,
     "metadata": {},
     "output_type": "execute_result"
    }
   ],
   "source": [
    "boundary_contribution.head(10)"
   ]
  },
  {
   "cell_type": "markdown",
   "id": "425fc286",
   "metadata": {},
   "source": [
    "### Top 10 batsmen by boundary contribution"
   ]
  },
  {
   "cell_type": "code",
   "execution_count": 77,
   "id": "57714629",
   "metadata": {},
   "outputs": [
    {
     "data": {
      "text/plain": [
       "[Text(0, 0, 'SK Raina'),\n",
       " Text(1, 0, 'RV Uthappa'),\n",
       " Text(2, 0, 'S Dhawan'),\n",
       " Text(3, 0, 'V Kohli'),\n",
       " Text(4, 0, 'RG Sharma'),\n",
       " Text(5, 0, 'CH Gayle'),\n",
       " Text(6, 0, 'G Gambhir'),\n",
       " Text(7, 0, 'SR Watson'),\n",
       " Text(8, 0, 'KD Karthik'),\n",
       " Text(9, 0, 'PA Patel')]"
      ]
     },
     "execution_count": 77,
     "metadata": {},
     "output_type": "execute_result"
    },
    {
     "data": {
      "image/png": "[encoded data removed]",
      "text/plain": [
       "<Figure size 640x480 with 1 Axes>"
      ]
     },
     "metadata": {},
     "output_type": "display_data"
    }
   ],
   "source": [
    "ax = sns.barplot(x=boundary_contribution['batsmen'].head(10), \n",
    "                 y=boundary_contribution['boundary_contribution'].head(10))\n",
    "\n",
    "ax.set_xticklabels(ax.get_xticklabels(), rotation=90)"
   ]
  },
  {
   "cell_type": "markdown",
   "id": "6c36ccec",
   "metadata": {},
   "source": [
    "### **Question 6**\n",
    "* List down **top 10** batsmen by **strike_rate** across all seasons. Plot the top 10 batsmen on a **bar chart**\n",
    "* Repeat the above task for **bottom 10** batsmen\n",
    "* Create a sub-plot with three sections. Show the below visuals in each : \n",
    "  * Box plot of **strike rates** of the top 10 batsmen listed in 1st part of the question\n",
    "  * Box plot of **runs scored** of the top 10 batsmen\n",
    "  * Box plot of **boundary_contribution** of the top 10 batsmen"
   ]
  },
  {
   "cell_type": "code",
   "execution_count": 78,
   "id": "463482ee",
   "metadata": {},
   "outputs": [],
   "source": [
    "strike_rate = batting['SR'].groupby(batting['batsmen']).agg('sum')"
   ]
  },
  {
   "cell_type": "code",
   "execution_count": 79,
   "id": "d2224dc1",
   "metadata": {},
   "outputs": [],
   "source": [
    "strike_rate = strike_rate.reset_index()"
   ]
  },
  {
   "cell_type": "code",
   "execution_count": 80,
   "id": "ba4286bb",
   "metadata": {},
   "outputs": [],
   "source": [
    "strike_rate.sort_values(['SR'], axis=0, ascending=False, inplace=True)"
   ]
  },
  {
   "cell_type": "code",
   "execution_count": 81,
   "id": "0de93550",
   "metadata": {},
   "outputs": [],
   "source": [
    "df = strike_rate.head(10)"
   ]
  },
  {
   "cell_type": "code",
   "execution_count": 82,
   "id": "b9d0bee0",
   "metadata": {},
   "outputs": [],
   "source": [
    "strikerates = strike_rate.head(10)"
   ]
  },
  {
   "cell_type": "code",
   "execution_count": 83,
   "id": "fed048ce",
   "metadata": {},
   "outputs": [],
   "source": [
    "runs = strike_rate"
   ]
  },
  {
   "cell_type": "markdown",
   "id": "f9acf424",
   "metadata": {},
   "source": [
    "#### Top 10 batsman by Strike Rate"
   ]
  },
  {
   "cell_type": "code",
   "execution_count": 84,
   "id": "b55bfea8",
   "metadata": {},
   "outputs": [
    {
     "ename": "TypeError",
     "evalue": "barplot() takes from 0 to 1 positional arguments but 2 were given",
     "output_type": "error",
     "traceback": [
      "\u001b[1;31m---------------------------------------------------------------------------\u001b[0m",
      "\u001b[1;31mTypeError\u001b[0m                                 Traceback (most recent call last)",
      "Cell \u001b[1;32mIn[84], line 1\u001b[0m\n\u001b[1;32m----> 1\u001b[0m ax \u001b[38;5;241m=\u001b[39m sns\u001b[38;5;241m.\u001b[39mbarplot(df[\u001b[38;5;124m'\u001b[39m\u001b[38;5;124mbatsmen\u001b[39m\u001b[38;5;124m'\u001b[39m], df[\u001b[38;5;124m'\u001b[39m\u001b[38;5;124mSR\u001b[39m\u001b[38;5;124m'\u001b[39m])\u001b[38;5;241m.\u001b[39mset_xticklabels(df[\u001b[38;5;124m'\u001b[39m\u001b[38;5;124mbatsmen\u001b[39m\u001b[38;5;124m'\u001b[39m], rotation\u001b[38;5;241m=\u001b[39m\u001b[38;5;241m90\u001b[39m)\n",
      "\u001b[1;31mTypeError\u001b[0m: barplot() takes from 0 to 1 positional arguments but 2 were given"
     ]
    }
   ],
   "source": [
    "ax = sns.barplot(df['batsmen'], df['SR']).set_xticklabels(df['batsmen'], rotation=90)"
   ]
  },
  {
   "cell_type": "code",
   "execution_count": 85,
   "id": "27abeed8",
   "metadata": {},
   "outputs": [
    {
     "data": {
      "text/plain": [
       "[Text(0, 0, 'SK Raina'),\n",
       " Text(1, 0, 'MS Dhoni'),\n",
       " Text(2, 0, 'RG Sharma'),\n",
       " Text(3, 0, 'RV Uthappa'),\n",
       " Text(4, 0, 'V Kohli'),\n",
       " Text(5, 0, 'YK Pathan'),\n",
       " Text(6, 0, 'KD Karthik'),\n",
       " Text(7, 0, 'AB de Villiers'),\n",
       " Text(8, 0, 'S Dhawan'),\n",
       " Text(9, 0, 'KA Pollard')]"
      ]
     },
     "execution_count": 85,
     "metadata": {},
     "output_type": "execute_result"
    },
    {
     "data": {
      "image/png": "[encoded data removed]",
      "text/plain": [
       "<Figure size 640x480 with 1 Axes>"
      ]
     },
     "metadata": {},
     "output_type": "display_data"
    }
   ],
   "source": [
    "ax = sns.barplot(x='batsmen',y='SR',data=df)\n",
    "ax.set_xticklabels(ax.get_xticklabels(), rotation=90)"
   ]
  },
  {
   "cell_type": "code",
   "execution_count": 86,
   "id": "8ab82e6c",
   "metadata": {},
   "outputs": [],
   "source": [
    "strike_rate.sort_values(['SR'], axis=0, ascending=True,inplace=True)"
   ]
  },
  {
   "cell_type": "code",
   "execution_count": 87,
   "id": "99e00358",
   "metadata": {},
   "outputs": [],
   "source": [
    "df = strike_rate.head(10)"
   ]
  },
  {
   "cell_type": "code",
   "execution_count": 92,
   "id": "57c0241e",
   "metadata": {},
   "outputs": [
    {
     "data": {
      "image/png": "[encoded data removed]",
      "text/plain": [
       "<Figure size 1300x1300 with 4 Axes>"
      ]
     },
     "metadata": {},
     "output_type": "display_data"
    }
   ],
   "source": [
    "fig, axes = plt.subplots(nrows=2, ncols=2,figsize=(13,13)) # create 2x2 array of subplots\n",
    "batsman.head(10).boxplot(column='R', ax=axes[0,0])\n",
    "strikerates.boxplot(column='SR',ax = axes[1,0])\n",
    "boundary_contribution.head(10).boxplot(column='boundary_contribution',ax = axes[0,1])\n",
    "plt.show()"
   ]
  },
  {
   "cell_type": "markdown",
   "id": "c4c80d27",
   "metadata": {},
   "source": [
    "### **Question 7**\n",
    "* Create a new column called **dismissal_status**. Use the wicket_status column to extract values like **caught, lbw, bowled** etc. and store in dismissal_status column\n",
    "* Extract the bowler name from the column **wicket_status** and store in a new column called **bowler_name**\n",
    "* Extract fielder name from the **wicket_status** column and store in a new column called **fielder_name**\n",
    "* Create a new column called **fielder_involved**. Set it to 1 if a fielder was involved in the dismissal else 0\n",
    "* Create a **count plot** of player dismissals across the categories calculated above. Which category stands out from the rest?"
   ]
  },
  {
   "cell_type": "code",
   "execution_count": 93,
   "id": "b73e5264",
   "metadata": {},
   "outputs": [
    {
     "data": {
      "text/plain": [
       "array(['c Hayden b Thushara', 'not out', 'c Dhoni b Gony', ...,\n",
       "       'c †Kamran Akmal b Pathan', 'run out (Ntini)',\n",
       "       'c Dhoni b Muralitharan'], dtype=object)"
      ]
     },
     "execution_count": 93,
     "metadata": {},
     "output_type": "execute_result"
    }
   ],
   "source": [
    "batting['wicket_status'].unique()"
   ]
  },
  {
   "cell_type": "code",
   "execution_count": 94,
   "id": "14498b29",
   "metadata": {},
   "outputs": [],
   "source": [
    "wicket_status = []\n",
    "for i in batting['wicket_status']:\n",
    "    if 'lbw' in i:\n",
    "        wicket_status.append('lbw')\n",
    "    elif 'run out' in i:\n",
    "        wicket_status.append('run out')\n",
    "    elif 'not out' in i:\n",
    "        wicket_status.append('not out')\n",
    "    elif 'retired' in i:\n",
    "        wicket_status.append('retires')\n",
    "    elif 'hit wicket' in i:\n",
    "        wicket_status.append('hit wicket')\n",
    "    elif 'absent' in i:\n",
    "        wicket_status.append('absent from match/ injured')\n",
    "    elif 'st ' in temp:\n",
    "        dismissal.append('stumped')\n",
    "    elif 'obstructing' in i:\n",
    "        wicket_status.append('obstructing')\n",
    "    elif 'b' in i:\n",
    "        if 'c' in i:\n",
    "            wicket_status.append('caught and out')\n",
    "        else:\n",
    "            wicket_status.append('clean bold')"
   ]
  },
  {
   "cell_type": "code",
   "execution_count": 95,
   "id": "04d9c1a4",
   "metadata": {},
   "outputs": [],
   "source": [
    "batting['dismissal_status'] = wicket_status"
   ]
  },
  {
   "cell_type": "code",
   "execution_count": 96,
   "id": "c927c101",
   "metadata": {},
   "outputs": [
    {
     "data": {
      "text/html": [
       "<div>\n",
       "<style scoped>\n",
       "    .dataframe tbody tr th:only-of-type {\n",
       "        vertical-align: middle;\n",
       "    }\n",
       "\n",
       "    .dataframe tbody tr th {\n",
       "        vertical-align: top;\n",
       "    }\n",
       "\n",
       "    .dataframe thead th {\n",
       "        text-align: right;\n",
       "    }\n",
       "</style>\n",
       "<table border=\"1\" class=\"dataframe\">\n",
       "  <thead>\n",
       "    <tr style=\"text-align: right;\">\n",
       "      <th></th>\n",
       "      <th>match_no</th>\n",
       "      <th>team_1</th>\n",
       "      <th>team_2</th>\n",
       "      <th>batsmen</th>\n",
       "      <th>wicket_status</th>\n",
       "      <th>R</th>\n",
       "      <th>B</th>\n",
       "      <th>M</th>\n",
       "      <th>fours</th>\n",
       "      <th>sixes</th>\n",
       "      <th>SR</th>\n",
       "      <th>special_role</th>\n",
       "      <th>dismissal_mode</th>\n",
       "      <th>bowler_name</th>\n",
       "      <th>fielder</th>\n",
       "      <th>is_fielder_involved</th>\n",
       "      <th>match_date</th>\n",
       "      <th>year</th>\n",
       "      <th>boundary_contribution</th>\n",
       "      <th>dismissal_status</th>\n",
       "    </tr>\n",
       "  </thead>\n",
       "  <tbody>\n",
       "    <tr>\n",
       "      <th>0</th>\n",
       "      <td>1</td>\n",
       "      <td>Mumbai Indians</td>\n",
       "      <td>Chennai Super Kings</td>\n",
       "      <td>ST Jayasuriya</td>\n",
       "      <td>c Hayden b Thushara</td>\n",
       "      <td>26.0</td>\n",
       "      <td>20.0</td>\n",
       "      <td>0.0</td>\n",
       "      <td>5.0</td>\n",
       "      <td>0.0</td>\n",
       "      <td>130.00</td>\n",
       "      <td>normal player</td>\n",
       "      <td>caught</td>\n",
       "      <td>Thushara</td>\n",
       "      <td>Hayden</td>\n",
       "      <td>1</td>\n",
       "      <td>2009-04-18</td>\n",
       "      <td>2009</td>\n",
       "      <td>0.192308</td>\n",
       "      <td>caught and out</td>\n",
       "    </tr>\n",
       "    <tr>\n",
       "      <th>1</th>\n",
       "      <td>1</td>\n",
       "      <td>Mumbai Indians</td>\n",
       "      <td>Chennai Super Kings</td>\n",
       "      <td>SR Tendulkar</td>\n",
       "      <td>not out</td>\n",
       "      <td>59.0</td>\n",
       "      <td>49.0</td>\n",
       "      <td>0.0</td>\n",
       "      <td>7.0</td>\n",
       "      <td>0.0</td>\n",
       "      <td>120.40</td>\n",
       "      <td>captain</td>\n",
       "      <td>not out</td>\n",
       "      <td>no bowler</td>\n",
       "      <td>no fielder</td>\n",
       "      <td>0</td>\n",
       "      <td>2009-04-18</td>\n",
       "      <td>2009</td>\n",
       "      <td>0.118644</td>\n",
       "      <td>not out</td>\n",
       "    </tr>\n",
       "    <tr>\n",
       "      <th>2</th>\n",
       "      <td>1</td>\n",
       "      <td>Mumbai Indians</td>\n",
       "      <td>Chennai Super Kings</td>\n",
       "      <td>S Dhawan</td>\n",
       "      <td>c Dhoni b Gony</td>\n",
       "      <td>22.0</td>\n",
       "      <td>21.0</td>\n",
       "      <td>0.0</td>\n",
       "      <td>2.0</td>\n",
       "      <td>0.0</td>\n",
       "      <td>104.76</td>\n",
       "      <td>normal player</td>\n",
       "      <td>caught</td>\n",
       "      <td>Gony</td>\n",
       "      <td>Dhoni</td>\n",
       "      <td>1</td>\n",
       "      <td>2009-04-18</td>\n",
       "      <td>2009</td>\n",
       "      <td>0.090909</td>\n",
       "      <td>caught and out</td>\n",
       "    </tr>\n",
       "    <tr>\n",
       "      <th>3</th>\n",
       "      <td>1</td>\n",
       "      <td>Mumbai Indians</td>\n",
       "      <td>Chennai Super Kings</td>\n",
       "      <td>JP Duminy</td>\n",
       "      <td>c &amp; b Gony</td>\n",
       "      <td>9.0</td>\n",
       "      <td>7.0</td>\n",
       "      <td>0.0</td>\n",
       "      <td>1.0</td>\n",
       "      <td>0.0</td>\n",
       "      <td>128.57</td>\n",
       "      <td>normal player</td>\n",
       "      <td>caught</td>\n",
       "      <td>Gony</td>\n",
       "      <td>Gony</td>\n",
       "      <td>1</td>\n",
       "      <td>2009-04-18</td>\n",
       "      <td>2009</td>\n",
       "      <td>0.111111</td>\n",
       "      <td>caught and out</td>\n",
       "    </tr>\n",
       "    <tr>\n",
       "      <th>4</th>\n",
       "      <td>1</td>\n",
       "      <td>Mumbai Indians</td>\n",
       "      <td>Chennai Super Kings</td>\n",
       "      <td>DJ Bravo</td>\n",
       "      <td>c Hayden b Joginder Sharma</td>\n",
       "      <td>5.0</td>\n",
       "      <td>4.0</td>\n",
       "      <td>0.0</td>\n",
       "      <td>1.0</td>\n",
       "      <td>0.0</td>\n",
       "      <td>125.00</td>\n",
       "      <td>normal player</td>\n",
       "      <td>caught</td>\n",
       "      <td>Joginder Sharma</td>\n",
       "      <td>Hayden</td>\n",
       "      <td>1</td>\n",
       "      <td>2009-04-18</td>\n",
       "      <td>2009</td>\n",
       "      <td>0.200000</td>\n",
       "      <td>caught and out</td>\n",
       "    </tr>\n",
       "  </tbody>\n",
       "</table>\n",
       "</div>"
      ],
      "text/plain": [
       "  match_no          team_1               team_2        batsmen  \\\n",
       "0        1  Mumbai Indians  Chennai Super Kings  ST Jayasuriya   \n",
       "1        1  Mumbai Indians  Chennai Super Kings   SR Tendulkar   \n",
       "2        1  Mumbai Indians  Chennai Super Kings       S Dhawan   \n",
       "3        1  Mumbai Indians  Chennai Super Kings      JP Duminy   \n",
       "4        1  Mumbai Indians  Chennai Super Kings       DJ Bravo   \n",
       "\n",
       "                wicket_status     R     B    M  fours  sixes      SR  \\\n",
       "0         c Hayden b Thushara  26.0  20.0  0.0    5.0    0.0  130.00   \n",
       "1                     not out  59.0  49.0  0.0    7.0    0.0  120.40   \n",
       "2              c Dhoni b Gony  22.0  21.0  0.0    2.0    0.0  104.76   \n",
       "3                  c & b Gony   9.0   7.0  0.0    1.0    0.0  128.57   \n",
       "4  c Hayden b Joginder Sharma   5.0   4.0  0.0    1.0    0.0  125.00   \n",
       "\n",
       "    special_role dismissal_mode      bowler_name     fielder  \\\n",
       "0  normal player         caught         Thushara      Hayden   \n",
       "1        captain        not out        no bowler  no fielder   \n",
       "2  normal player         caught             Gony       Dhoni   \n",
       "3  normal player         caught             Gony        Gony   \n",
       "4  normal player         caught  Joginder Sharma      Hayden   \n",
       "\n",
       "   is_fielder_involved  match_date  year  boundary_contribution  \\\n",
       "0                    1  2009-04-18  2009               0.192308   \n",
       "1                    0  2009-04-18  2009               0.118644   \n",
       "2                    1  2009-04-18  2009               0.090909   \n",
       "3                    1  2009-04-18  2009               0.111111   \n",
       "4                    1  2009-04-18  2009               0.200000   \n",
       "\n",
       "  dismissal_status  \n",
       "0   caught and out  \n",
       "1          not out  \n",
       "2   caught and out  \n",
       "3   caught and out  \n",
       "4   caught and out  "
      ]
     },
     "execution_count": 96,
     "metadata": {},
     "output_type": "execute_result"
    }
   ],
   "source": [
    "batting.head()"
   ]
  },
  {
   "cell_type": "code",
   "execution_count": 97,
   "id": "50ac471a",
   "metadata": {},
   "outputs": [],
   "source": [
    "bowler = []\n",
    "fielder = []\n",
    "fielder_involved = []\n",
    "for temp in batting['wicket_status']:\n",
    "  if 'lbw' in temp or 'hit wicket' in temp:\n",
    "    name = temp.split(\"b \",1)[1] \n",
    "    bowler.append(name)\n",
    "    fielder.append('no fielder')\n",
    "    fielder_involved.append(0)\n",
    "  elif 'run out' in temp or 'not out' in temp or 'retired' in temp or 'absent' in temp or 'obstructing' in temp:\n",
    "    bowler.append('no bowler')\n",
    "    fielder.append('no fielder')\n",
    "    fielder_involved.append(0)\n",
    "  elif 'st ' in temp:\n",
    "    names = temp.split(\"st \",1)[1] \n",
    "    temps = names.split(\"b \",1)\n",
    "    sname = temps[0]\n",
    "    bname = temps[1]\n",
    "    bowler.append(bname)\n",
    "    fielder.append(sname)\n",
    "    fielder_involved.append(1)\n",
    "  elif 'b ' in temp:\n",
    "    if 'c ' in temp:\n",
    "      names = temp.split(\"c \",1)[1] \n",
    "      temps = names.split(\"b \",1)\n",
    "      sname = temps[0]\n",
    "      bname = temps[1]\n",
    "      bowler.append(bname)\n",
    "      if sname == \"& \" or sname == \"&\":\n",
    "        fielder.append(bname)\n",
    "      else:\n",
    "        fielder.append(sname)\n",
    "      fielder_involved.append(1)\n",
    "    else:\n",
    "      name = temp.split(\"b \",1)[1] \n",
    "      bowler.append(name)\n",
    "      fielder.append('no fielder')\n",
    "      fielder_involved.append(0)"
   ]
  },
  {
   "cell_type": "code",
   "execution_count": 98,
   "id": "7209361c",
   "metadata": {},
   "outputs": [],
   "source": [
    "batting['bowler_name'] = bowler\n",
    "batting['fielder_name'] = fielder\n",
    "batting['fielder_involved'] = fielder_involved"
   ]
  },
  {
   "cell_type": "code",
   "execution_count": 99,
   "id": "8222e99d",
   "metadata": {},
   "outputs": [
    {
     "data": {
      "text/html": [
       "<div>\n",
       "<style scoped>\n",
       "    .dataframe tbody tr th:only-of-type {\n",
       "        vertical-align: middle;\n",
       "    }\n",
       "\n",
       "    .dataframe tbody tr th {\n",
       "        vertical-align: top;\n",
       "    }\n",
       "\n",
       "    .dataframe thead th {\n",
       "        text-align: right;\n",
       "    }\n",
       "</style>\n",
       "<table border=\"1\" class=\"dataframe\">\n",
       "  <thead>\n",
       "    <tr style=\"text-align: right;\">\n",
       "      <th></th>\n",
       "      <th>match_no</th>\n",
       "      <th>team_1</th>\n",
       "      <th>team_2</th>\n",
       "      <th>batsmen</th>\n",
       "      <th>wicket_status</th>\n",
       "      <th>R</th>\n",
       "      <th>B</th>\n",
       "      <th>M</th>\n",
       "      <th>fours</th>\n",
       "      <th>sixes</th>\n",
       "      <th>...</th>\n",
       "      <th>dismissal_mode</th>\n",
       "      <th>bowler_name</th>\n",
       "      <th>fielder</th>\n",
       "      <th>is_fielder_involved</th>\n",
       "      <th>match_date</th>\n",
       "      <th>year</th>\n",
       "      <th>boundary_contribution</th>\n",
       "      <th>dismissal_status</th>\n",
       "      <th>fielder_name</th>\n",
       "      <th>fielder_involved</th>\n",
       "    </tr>\n",
       "  </thead>\n",
       "  <tbody>\n",
       "    <tr>\n",
       "      <th>0</th>\n",
       "      <td>1</td>\n",
       "      <td>Mumbai Indians</td>\n",
       "      <td>Chennai Super Kings</td>\n",
       "      <td>ST Jayasuriya</td>\n",
       "      <td>c Hayden b Thushara</td>\n",
       "      <td>26.0</td>\n",
       "      <td>20.0</td>\n",
       "      <td>0.0</td>\n",
       "      <td>5.0</td>\n",
       "      <td>0.0</td>\n",
       "      <td>...</td>\n",
       "      <td>caught</td>\n",
       "      <td>Thushara</td>\n",
       "      <td>Hayden</td>\n",
       "      <td>1</td>\n",
       "      <td>2009-04-18</td>\n",
       "      <td>2009</td>\n",
       "      <td>0.192308</td>\n",
       "      <td>caught and out</td>\n",
       "      <td>Hayden</td>\n",
       "      <td>1</td>\n",
       "    </tr>\n",
       "    <tr>\n",
       "      <th>1</th>\n",
       "      <td>1</td>\n",
       "      <td>Mumbai Indians</td>\n",
       "      <td>Chennai Super Kings</td>\n",
       "      <td>SR Tendulkar</td>\n",
       "      <td>not out</td>\n",
       "      <td>59.0</td>\n",
       "      <td>49.0</td>\n",
       "      <td>0.0</td>\n",
       "      <td>7.0</td>\n",
       "      <td>0.0</td>\n",
       "      <td>...</td>\n",
       "      <td>not out</td>\n",
       "      <td>no bowler</td>\n",
       "      <td>no fielder</td>\n",
       "      <td>0</td>\n",
       "      <td>2009-04-18</td>\n",
       "      <td>2009</td>\n",
       "      <td>0.118644</td>\n",
       "      <td>not out</td>\n",
       "      <td>no fielder</td>\n",
       "      <td>0</td>\n",
       "    </tr>\n",
       "    <tr>\n",
       "      <th>2</th>\n",
       "      <td>1</td>\n",
       "      <td>Mumbai Indians</td>\n",
       "      <td>Chennai Super Kings</td>\n",
       "      <td>S Dhawan</td>\n",
       "      <td>c Dhoni b Gony</td>\n",
       "      <td>22.0</td>\n",
       "      <td>21.0</td>\n",
       "      <td>0.0</td>\n",
       "      <td>2.0</td>\n",
       "      <td>0.0</td>\n",
       "      <td>...</td>\n",
       "      <td>caught</td>\n",
       "      <td>Gony</td>\n",
       "      <td>Dhoni</td>\n",
       "      <td>1</td>\n",
       "      <td>2009-04-18</td>\n",
       "      <td>2009</td>\n",
       "      <td>0.090909</td>\n",
       "      <td>caught and out</td>\n",
       "      <td>Dhoni</td>\n",
       "      <td>1</td>\n",
       "    </tr>\n",
       "    <tr>\n",
       "      <th>3</th>\n",
       "      <td>1</td>\n",
       "      <td>Mumbai Indians</td>\n",
       "      <td>Chennai Super Kings</td>\n",
       "      <td>JP Duminy</td>\n",
       "      <td>c &amp; b Gony</td>\n",
       "      <td>9.0</td>\n",
       "      <td>7.0</td>\n",
       "      <td>0.0</td>\n",
       "      <td>1.0</td>\n",
       "      <td>0.0</td>\n",
       "      <td>...</td>\n",
       "      <td>caught</td>\n",
       "      <td>Gony</td>\n",
       "      <td>Gony</td>\n",
       "      <td>1</td>\n",
       "      <td>2009-04-18</td>\n",
       "      <td>2009</td>\n",
       "      <td>0.111111</td>\n",
       "      <td>caught and out</td>\n",
       "      <td>Gony</td>\n",
       "      <td>1</td>\n",
       "    </tr>\n",
       "    <tr>\n",
       "      <th>4</th>\n",
       "      <td>1</td>\n",
       "      <td>Mumbai Indians</td>\n",
       "      <td>Chennai Super Kings</td>\n",
       "      <td>DJ Bravo</td>\n",
       "      <td>c Hayden b Joginder Sharma</td>\n",
       "      <td>5.0</td>\n",
       "      <td>4.0</td>\n",
       "      <td>0.0</td>\n",
       "      <td>1.0</td>\n",
       "      <td>0.0</td>\n",
       "      <td>...</td>\n",
       "      <td>caught</td>\n",
       "      <td>Joginder Sharma</td>\n",
       "      <td>Hayden</td>\n",
       "      <td>1</td>\n",
       "      <td>2009-04-18</td>\n",
       "      <td>2009</td>\n",
       "      <td>0.200000</td>\n",
       "      <td>caught and out</td>\n",
       "      <td>Hayden</td>\n",
       "      <td>1</td>\n",
       "    </tr>\n",
       "  </tbody>\n",
       "</table>\n",
       "<p>5 rows × 22 columns</p>\n",
       "</div>"
      ],
      "text/plain": [
       "  match_no          team_1               team_2        batsmen  \\\n",
       "0        1  Mumbai Indians  Chennai Super Kings  ST Jayasuriya   \n",
       "1        1  Mumbai Indians  Chennai Super Kings   SR Tendulkar   \n",
       "2        1  Mumbai Indians  Chennai Super Kings       S Dhawan   \n",
       "3        1  Mumbai Indians  Chennai Super Kings      JP Duminy   \n",
       "4        1  Mumbai Indians  Chennai Super Kings       DJ Bravo   \n",
       "\n",
       "                wicket_status     R     B    M  fours  sixes  ...  \\\n",
       "0         c Hayden b Thushara  26.0  20.0  0.0    5.0    0.0  ...   \n",
       "1                     not out  59.0  49.0  0.0    7.0    0.0  ...   \n",
       "2              c Dhoni b Gony  22.0  21.0  0.0    2.0    0.0  ...   \n",
       "3                  c & b Gony   9.0   7.0  0.0    1.0    0.0  ...   \n",
       "4  c Hayden b Joginder Sharma   5.0   4.0  0.0    1.0    0.0  ...   \n",
       "\n",
       "   dismissal_mode      bowler_name     fielder is_fielder_involved  \\\n",
       "0          caught         Thushara      Hayden                   1   \n",
       "1         not out        no bowler  no fielder                   0   \n",
       "2          caught             Gony       Dhoni                   1   \n",
       "3          caught             Gony        Gony                   1   \n",
       "4          caught  Joginder Sharma      Hayden                   1   \n",
       "\n",
       "   match_date  year boundary_contribution dismissal_status  fielder_name  \\\n",
       "0  2009-04-18  2009              0.192308   caught and out       Hayden    \n",
       "1  2009-04-18  2009              0.118644          not out    no fielder   \n",
       "2  2009-04-18  2009              0.090909   caught and out        Dhoni    \n",
       "3  2009-04-18  2009              0.111111   caught and out          Gony   \n",
       "4  2009-04-18  2009              0.200000   caught and out       Hayden    \n",
       "\n",
       "  fielder_involved  \n",
       "0                1  \n",
       "1                0  \n",
       "2                1  \n",
       "3                1  \n",
       "4                1  \n",
       "\n",
       "[5 rows x 22 columns]"
      ]
     },
     "execution_count": 99,
     "metadata": {},
     "output_type": "execute_result"
    }
   ],
   "source": [
    "batting.head()"
   ]
  },
  {
   "cell_type": "code",
   "execution_count": 100,
   "id": "7f3164cf",
   "metadata": {},
   "outputs": [
    {
     "data": {
      "image/png": "[encoded data removed]",
      "text/plain": [
       "<Figure size 1500x800 with 1 Axes>"
      ]
     },
     "metadata": {},
     "output_type": "display_data"
    }
   ],
   "source": [
    "import seaborn as sns\n",
    "ax = sns.countplot(x=\"dismissal_status\", data=batting)\n",
    "ax.figure.set_size_inches(15,8)"
   ]
  },
  {
   "cell_type": "code",
   "execution_count": null,
   "id": "d93082b1",
   "metadata": {},
   "outputs": [],
   "source": []
  }
 ],
 "metadata": {
  "kernelspec": {
   "display_name": "Python 3 (ipykernel)",
   "language": "python",
   "name": "python3"
  },
  "language_info": {
   "codemirror_mode": {
    "name": "ipython",
    "version": 3
   },
   "file_extension": ".py",
   "mimetype": "text/x-python",
   "name": "python",
   "nbconvert_exporter": "python",
   "pygments_lexer": "ipython3",
   "version": "3.11.5"
  }
 },
 "nbformat": 4,
 "nbformat_minor": 5
}
